{
  "cells": [
    {
      "cell_type": "markdown",
      "metadata": {
        "id": "4zmqr1zXxWOe"
      },
      "source": [
        "# Creating Interactive Maps\n",
        "\n",
        "```{contents}\n",
        ":local:\n",
        ":depth: 2\n",
        "```\n",
        "\n",
        "## Introduction\n",
        "\n",
        "## Technical requirements\n",
        "\n",
        "```bash\n",
        "conda create -n gee python\n",
        "conda activate gee\n",
        "conda install -c conda-forge mamba\n",
        "mamba install -c conda-forge pygis\n",
        "```\n",
        "\n",
        "```bash\n",
        "jupyter lab\n",
        "```"
      ],
      "id": "4zmqr1zXxWOe"
    },
    {
      "cell_type": "code",
      "execution_count": 8,
      "metadata": {
        "collapsed": true,
        "id": "uuZ_rJ4IxWOg",
        "outputId": "b6d1fad8-8c13-48d1-e146-1b66b7a2327f",
        "colab": {
          "base_uri": "https://localhost:8080/",
          "height": 1000
        }
      },
      "outputs": [
        {
          "output_type": "display_data",
          "data": {
            "text/plain": [
              "<IPython.core.display.HTML object>"
            ],
            "text/html": [
              "\n",
              "            <style>\n",
              "                .geemap-dark {\n",
              "                    --jp-widgets-color: white;\n",
              "                    --jp-widgets-label-color: white;\n",
              "                    --jp-ui-font-color1: white;\n",
              "                    --jp-layout-color2: #454545;\n",
              "                    background-color: #383838;\n",
              "                }\n",
              "\n",
              "                .geemap-dark .jupyter-button {\n",
              "                    --jp-layout-color3: #383838;\n",
              "                }\n",
              "\n",
              "                .geemap-colab {\n",
              "                    background-color: var(--colab-primary-surface-color, white);\n",
              "                }\n",
              "\n",
              "                .geemap-colab .jupyter-button {\n",
              "                    --jp-layout-color3: var(--colab-primary-surface-color, white);\n",
              "                }\n",
              "            </style>\n",
              "            "
            ]
          },
          "metadata": {}
        },
        {
          "output_type": "stream",
          "name": "stdout",
          "text": [
            "Requirement already satisfied: pygis in /usr/local/lib/python3.10/dist-packages (0.7.0)\n",
            "Requirement already satisfied: bokeh in /usr/local/lib/python3.10/dist-packages (from pygis) (3.6.2)\n",
            "Requirement already satisfied: ffmpeg-python in /usr/local/lib/python3.10/dist-packages (from pygis) (0.2.0)\n",
            "Requirement already satisfied: gdown in /usr/local/lib/python3.10/dist-packages (from pygis) (5.2.0)\n",
            "Requirement already satisfied: geeadd in /usr/local/lib/python3.10/dist-packages (from pygis) (1.2.0)\n",
            "Requirement already satisfied: geedim>=1.6.1 in /usr/local/lib/python3.10/dist-packages (from pygis) (1.9.0)\n",
            "Requirement already satisfied: geemap>=0.34.3 in /usr/local/lib/python3.10/dist-packages (from pygis) (0.35.1)\n",
            "Requirement already satisfied: geojson in /usr/local/lib/python3.10/dist-packages (from pygis) (3.2.0)\n",
            "Requirement already satisfied: geopandas in /usr/local/lib/python3.10/dist-packages (from pygis) (1.0.1)\n",
            "Requirement already satisfied: ipynb-py-convert in /usr/local/lib/python3.10/dist-packages (from pygis) (0.4.6)\n",
            "Requirement already satisfied: leafmap>=0.37.5 in /usr/local/lib/python3.10/dist-packages (from pygis) (0.42.6)\n",
            "Requirement already satisfied: localtileserver>=0.10.0 in /usr/local/lib/python3.10/dist-packages (from pygis) (0.10.5)\n",
            "Requirement already satisfied: mapclassify>=2.4.0 in /usr/local/lib/python3.10/dist-packages (from pygis) (2.8.1)\n",
            "Requirement already satisfied: mss in /usr/local/lib/python3.10/dist-packages (from pygis) (10.0.0)\n",
            "Requirement already satisfied: netcdf4 in /usr/local/lib/python3.10/dist-packages (from pygis) (1.7.2)\n",
            "Requirement already satisfied: osmnx in /usr/local/lib/python3.10/dist-packages (from pygis) (2.0.0)\n",
            "Requirement already satisfied: overturemaps in /usr/local/lib/python3.10/dist-packages (from pygis) (0.12.0)\n",
            "Requirement already satisfied: owslib in /usr/local/lib/python3.10/dist-packages (from pygis) (0.32.0)\n",
            "Requirement already satisfied: palettable in /usr/local/lib/python3.10/dist-packages (from pygis) (3.3.3)\n",
            "Requirement already satisfied: plotly in /usr/local/lib/python3.10/dist-packages (from pygis) (5.24.1)\n",
            "Requirement already satisfied: pycrs in /usr/local/lib/python3.10/dist-packages (from pygis) (1.0.2)\n",
            "Requirement already satisfied: retry in /usr/local/lib/python3.10/dist-packages (from pygis) (0.9.2)\n",
            "Requirement already satisfied: rio-cogeo in /usr/local/lib/python3.10/dist-packages (from pygis) (5.4.1)\n",
            "Requirement already satisfied: rioxarray in /usr/local/lib/python3.10/dist-packages (from pygis) (0.18.1)\n",
            "Requirement already satisfied: sankee in /usr/local/lib/python3.10/dist-packages (from pygis) (0.2.5)\n",
            "Requirement already satisfied: whiteboxgui in /usr/local/lib/python3.10/dist-packages (from pygis) (2.3.0)\n",
            "Requirement already satisfied: numpy>=1.19 in /usr/local/lib/python3.10/dist-packages (from geedim>=1.6.1->pygis) (1.26.4)\n",
            "Requirement already satisfied: rasterio>=1.3.8 in /usr/local/lib/python3.10/dist-packages (from geedim>=1.6.1->pygis) (1.4.3)\n",
            "Requirement already satisfied: click>=8 in /usr/local/lib/python3.10/dist-packages (from geedim>=1.6.1->pygis) (8.1.7)\n",
            "Requirement already satisfied: tqdm>=4.6 in /usr/local/lib/python3.10/dist-packages (from geedim>=1.6.1->pygis) (4.67.1)\n",
            "Requirement already satisfied: earthengine-api>=0.1.379 in /usr/local/lib/python3.10/dist-packages (from geedim>=1.6.1->pygis) (1.4.3)\n",
            "Requirement already satisfied: requests>=2.2 in /usr/local/lib/python3.10/dist-packages (from geedim>=1.6.1->pygis) (2.32.3)\n",
            "Requirement already satisfied: tabulate>=0.8 in /usr/local/lib/python3.10/dist-packages (from geedim>=1.6.1->pygis) (0.9.0)\n",
            "Requirement already satisfied: bqplot in /usr/local/lib/python3.10/dist-packages (from geemap>=0.34.3->pygis) (0.12.43)\n",
            "Requirement already satisfied: colour in /usr/local/lib/python3.10/dist-packages (from geemap>=0.34.3->pygis) (0.1.5)\n",
            "Requirement already satisfied: eerepr>=0.0.4 in /usr/local/lib/python3.10/dist-packages (from geemap>=0.34.3->pygis) (0.0.4)\n",
            "Requirement already satisfied: folium>=0.17.0 in /usr/local/lib/python3.10/dist-packages (from geemap>=0.34.3->pygis) (0.19.2)\n",
            "Requirement already satisfied: geocoder in /usr/local/lib/python3.10/dist-packages (from geemap>=0.34.3->pygis) (1.38.1)\n",
            "Requirement already satisfied: ipyevents in /usr/local/lib/python3.10/dist-packages (from geemap>=0.34.3->pygis) (2.0.2)\n",
            "Requirement already satisfied: ipyfilechooser>=0.6.0 in /usr/local/lib/python3.10/dist-packages (from geemap>=0.34.3->pygis) (0.6.0)\n",
            "Requirement already satisfied: ipyleaflet>=0.19.2 in /usr/local/lib/python3.10/dist-packages (from geemap>=0.34.3->pygis) (0.19.2)\n",
            "Requirement already satisfied: ipytree in /usr/local/lib/python3.10/dist-packages (from geemap>=0.34.3->pygis) (0.2.2)\n",
            "Requirement already satisfied: matplotlib in /usr/local/lib/python3.10/dist-packages (from geemap>=0.34.3->pygis) (3.8.0)\n",
            "Requirement already satisfied: pandas in /usr/local/lib/python3.10/dist-packages (from geemap>=0.34.3->pygis) (2.2.2)\n",
            "Requirement already satisfied: pyperclip in /usr/local/lib/python3.10/dist-packages (from geemap>=0.34.3->pygis) (1.9.0)\n",
            "Requirement already satisfied: pyshp>=2.3.1 in /usr/local/lib/python3.10/dist-packages (from geemap>=0.34.3->pygis) (2.3.1)\n",
            "Requirement already satisfied: python-box in /usr/local/lib/python3.10/dist-packages (from geemap>=0.34.3->pygis) (7.3.0)\n",
            "Requirement already satisfied: scooby in /usr/local/lib/python3.10/dist-packages (from geemap>=0.34.3->pygis) (0.10.0)\n",
            "Requirement already satisfied: anywidget in /usr/local/lib/python3.10/dist-packages (from leafmap>=0.37.5->pygis) (0.9.13)\n",
            "Requirement already satisfied: duckdb in /usr/local/lib/python3.10/dist-packages (from leafmap>=0.37.5->pygis) (1.1.3)\n",
            "Requirement already satisfied: ipyvuetify in /usr/local/lib/python3.10/dist-packages (from leafmap>=0.37.5->pygis) (1.10.0)\n",
            "Requirement already satisfied: ipywidgets in /usr/local/lib/python3.10/dist-packages (from leafmap>=0.37.5->pygis) (7.7.1)\n",
            "Requirement already satisfied: psutil in /usr/local/lib/python3.10/dist-packages (from leafmap>=0.37.5->pygis) (5.9.5)\n",
            "Requirement already satisfied: pystac-client in /usr/local/lib/python3.10/dist-packages (from leafmap>=0.37.5->pygis) (0.8.5)\n",
            "Requirement already satisfied: xyzservices in /usr/local/lib/python3.10/dist-packages (from leafmap>=0.37.5->pygis) (2024.9.0)\n",
            "Requirement already satisfied: flask<4,>=2.0.0 in /usr/local/lib/python3.10/dist-packages (from localtileserver>=0.10.0->pygis) (3.1.0)\n",
            "Requirement already satisfied: Flask-Caching in /usr/local/lib/python3.10/dist-packages (from localtileserver>=0.10.0->pygis) (2.3.0)\n",
            "Requirement already satisfied: flask-cors in /usr/local/lib/python3.10/dist-packages (from localtileserver>=0.10.0->pygis) (5.0.0)\n",
            "Requirement already satisfied: flask-restx>=1.3.0 in /usr/local/lib/python3.10/dist-packages (from localtileserver>=0.10.0->pygis) (1.3.0)\n",
            "Requirement already satisfied: rio-tiler in /usr/local/lib/python3.10/dist-packages (from localtileserver>=0.10.0->pygis) (7.2.2)\n",
            "Requirement already satisfied: server-thread in /usr/local/lib/python3.10/dist-packages (from localtileserver>=0.10.0->pygis) (0.2.0)\n",
            "Requirement already satisfied: werkzeug in /usr/local/lib/python3.10/dist-packages (from localtileserver>=0.10.0->pygis) (3.1.3)\n",
            "Requirement already satisfied: networkx>=2.7 in /usr/local/lib/python3.10/dist-packages (from mapclassify>=2.4.0->pygis) (3.4.2)\n",
            "Requirement already satisfied: scikit-learn>=1.0 in /usr/local/lib/python3.10/dist-packages (from mapclassify>=2.4.0->pygis) (1.6.0)\n",
            "Requirement already satisfied: scipy>=1.8 in /usr/local/lib/python3.10/dist-packages (from mapclassify>=2.4.0->pygis) (1.13.1)\n",
            "Requirement already satisfied: Jinja2>=2.9 in /usr/local/lib/python3.10/dist-packages (from bokeh->pygis) (3.1.4)\n",
            "Requirement already satisfied: contourpy>=1.2 in /usr/local/lib/python3.10/dist-packages (from bokeh->pygis) (1.3.1)\n",
            "Requirement already satisfied: packaging>=16.8 in /usr/local/lib/python3.10/dist-packages (from bokeh->pygis) (24.2)\n",
            "Requirement already satisfied: pillow>=7.1.0 in /usr/local/lib/python3.10/dist-packages (from bokeh->pygis) (11.0.0)\n",
            "Requirement already satisfied: PyYAML>=3.10 in /usr/local/lib/python3.10/dist-packages (from bokeh->pygis) (6.0.2)\n",
            "Requirement already satisfied: tornado>=6.2 in /usr/local/lib/python3.10/dist-packages (from bokeh->pygis) (6.3.3)\n",
            "Requirement already satisfied: future in /usr/local/lib/python3.10/dist-packages (from ffmpeg-python->pygis) (1.0.0)\n",
            "Requirement already satisfied: beautifulsoup4 in /usr/local/lib/python3.10/dist-packages (from gdown->pygis) (4.12.3)\n",
            "Requirement already satisfied: filelock in /usr/local/lib/python3.10/dist-packages (from gdown->pygis) (3.16.1)\n",
            "Requirement already satisfied: logzero>=1.5.0 in /usr/local/lib/python3.10/dist-packages (from geeadd->pygis) (1.7.0)\n",
            "Requirement already satisfied: jsbeautifier>=1.15.1 in /usr/local/lib/python3.10/dist-packages (from geeadd->pygis) (1.15.1)\n",
            "Requirement already satisfied: pyogrio>=0.7.2 in /usr/local/lib/python3.10/dist-packages (from geopandas->pygis) (0.10.0)\n",
            "Requirement already satisfied: pyproj>=3.3.0 in /usr/local/lib/python3.10/dist-packages (from geopandas->pygis) (3.7.0)\n",
            "Requirement already satisfied: shapely>=2.0.0 in /usr/local/lib/python3.10/dist-packages (from geopandas->pygis) (2.0.6)\n",
            "Requirement already satisfied: cftime in /usr/local/lib/python3.10/dist-packages (from netcdf4->pygis) (1.6.4.post1)\n",
            "Requirement already satisfied: certifi in /usr/local/lib/python3.10/dist-packages (from netcdf4->pygis) (2024.12.14)\n",
            "Requirement already satisfied: pyarrow>=15.0.2 in /usr/local/lib/python3.10/dist-packages (from overturemaps->pygis) (17.0.0)\n",
            "Requirement already satisfied: lxml in /usr/local/lib/python3.10/dist-packages (from owslib->pygis) (5.3.0)\n",
            "Requirement already satisfied: python-dateutil in /usr/local/lib/python3.10/dist-packages (from owslib->pygis) (2.8.2)\n",
            "Requirement already satisfied: tenacity>=6.2.0 in /usr/local/lib/python3.10/dist-packages (from plotly->pygis) (9.0.0)\n",
            "Requirement already satisfied: decorator>=3.4.2 in /usr/local/lib/python3.10/dist-packages (from retry->pygis) (4.4.2)\n",
            "Requirement already satisfied: py<2.0.0,>=1.4.26 in /usr/local/lib/python3.10/dist-packages (from retry->pygis) (1.11.0)\n",
            "Requirement already satisfied: morecantile<7.0,>=5.0 in /usr/local/lib/python3.10/dist-packages (from rio-cogeo->pygis) (6.2.0)\n",
            "Requirement already satisfied: pydantic~=2.0 in /usr/local/lib/python3.10/dist-packages (from rio-cogeo->pygis) (2.10.3)\n",
            "Requirement already satisfied: xarray>=2024.7.0 in /usr/local/lib/python3.10/dist-packages (from rioxarray->pygis) (2024.11.0)\n",
            "Requirement already satisfied: whitebox in /usr/local/lib/python3.10/dist-packages (from whiteboxgui->pygis) (2.3.5)\n",
            "Requirement already satisfied: soupsieve>1.2 in /usr/local/lib/python3.10/dist-packages (from beautifulsoup4->gdown->pygis) (2.6)\n",
            "Requirement already satisfied: google-cloud-storage in /usr/local/lib/python3.10/dist-packages (from earthengine-api>=0.1.379->geedim>=1.6.1->pygis) (2.19.0)\n",
            "Requirement already satisfied: google-api-python-client>=1.12.1 in /usr/local/lib/python3.10/dist-packages (from earthengine-api>=0.1.379->geedim>=1.6.1->pygis) (2.155.0)\n",
            "Requirement already satisfied: google-auth>=1.4.1 in /usr/local/lib/python3.10/dist-packages (from earthengine-api>=0.1.379->geedim>=1.6.1->pygis) (2.27.0)\n",
            "Requirement already satisfied: google-auth-httplib2>=0.0.3 in /usr/local/lib/python3.10/dist-packages (from earthengine-api>=0.1.379->geedim>=1.6.1->pygis) (0.2.0)\n",
            "Requirement already satisfied: httplib2<1dev,>=0.9.2 in /usr/local/lib/python3.10/dist-packages (from earthengine-api>=0.1.379->geedim>=1.6.1->pygis) (0.22.0)\n",
            "Requirement already satisfied: itsdangerous>=2.2 in /usr/local/lib/python3.10/dist-packages (from flask<4,>=2.0.0->localtileserver>=0.10.0->pygis) (2.2.0)\n",
            "Requirement already satisfied: blinker>=1.9 in /usr/local/lib/python3.10/dist-packages (from flask<4,>=2.0.0->localtileserver>=0.10.0->pygis) (1.9.0)\n",
            "Requirement already satisfied: aniso8601>=0.82 in /usr/local/lib/python3.10/dist-packages (from flask-restx>=1.3.0->localtileserver>=0.10.0->pygis) (9.0.1)\n",
            "Requirement already satisfied: jsonschema in /usr/local/lib/python3.10/dist-packages (from flask-restx>=1.3.0->localtileserver>=0.10.0->pygis) (4.23.0)\n",
            "Requirement already satisfied: pytz in /usr/local/lib/python3.10/dist-packages (from flask-restx>=1.3.0->localtileserver>=0.10.0->pygis) (2024.2)\n",
            "Requirement already satisfied: importlib-resources in /usr/local/lib/python3.10/dist-packages (from flask-restx>=1.3.0->localtileserver>=0.10.0->pygis) (6.4.5)\n",
            "Requirement already satisfied: branca>=0.6.0 in /usr/local/lib/python3.10/dist-packages (from folium>=0.17.0->geemap>=0.34.3->pygis) (0.8.1)\n",
            "Requirement already satisfied: jupyter-leaflet<0.20,>=0.19 in /usr/local/lib/python3.10/dist-packages (from ipyleaflet>=0.19.2->geemap>=0.34.3->pygis) (0.19.2)\n",
            "Requirement already satisfied: traittypes<3,>=0.2.1 in /usr/local/lib/python3.10/dist-packages (from ipyleaflet>=0.19.2->geemap>=0.34.3->pygis) (0.2.1)\n",
            "Requirement already satisfied: ipykernel>=4.5.1 in /usr/local/lib/python3.10/dist-packages (from ipywidgets->leafmap>=0.37.5->pygis) (5.5.6)\n",
            "Requirement already satisfied: ipython-genutils~=0.2.0 in /usr/local/lib/python3.10/dist-packages (from ipywidgets->leafmap>=0.37.5->pygis) (0.2.0)\n",
            "Requirement already satisfied: traitlets>=4.3.1 in /usr/local/lib/python3.10/dist-packages (from ipywidgets->leafmap>=0.37.5->pygis) (5.7.1)\n",
            "Requirement already satisfied: widgetsnbextension~=3.6.0 in /usr/local/lib/python3.10/dist-packages (from ipywidgets->leafmap>=0.37.5->pygis) (3.6.10)\n",
            "Requirement already satisfied: ipython>=4.0.0 in /usr/local/lib/python3.10/dist-packages (from ipywidgets->leafmap>=0.37.5->pygis) (7.34.0)\n",
            "Requirement already satisfied: jupyterlab-widgets>=1.0.0 in /usr/local/lib/python3.10/dist-packages (from ipywidgets->leafmap>=0.37.5->pygis) (3.0.13)\n",
            "Requirement already satisfied: MarkupSafe>=2.0 in /usr/local/lib/python3.10/dist-packages (from Jinja2>=2.9->bokeh->pygis) (3.0.2)\n",
            "Requirement already satisfied: six>=1.13.0 in /usr/local/lib/python3.10/dist-packages (from jsbeautifier>=1.15.1->geeadd->pygis) (1.17.0)\n",
            "Requirement already satisfied: editorconfig>=0.12.2 in /usr/local/lib/python3.10/dist-packages (from jsbeautifier>=1.15.1->geeadd->pygis) (0.17.0)\n",
            "Requirement already satisfied: attrs in /usr/local/lib/python3.10/dist-packages (from morecantile<7.0,>=5.0->rio-cogeo->pygis) (24.3.0)\n",
            "Requirement already satisfied: tzdata>=2022.7 in /usr/local/lib/python3.10/dist-packages (from pandas->geemap>=0.34.3->pygis) (2024.2)\n",
            "Requirement already satisfied: annotated-types>=0.6.0 in /usr/local/lib/python3.10/dist-packages (from pydantic~=2.0->rio-cogeo->pygis) (0.7.0)\n",
            "Requirement already satisfied: pydantic-core==2.27.1 in /usr/local/lib/python3.10/dist-packages (from pydantic~=2.0->rio-cogeo->pygis) (2.27.1)\n",
            "Requirement already satisfied: typing-extensions>=4.12.2 in /usr/local/lib/python3.10/dist-packages (from pydantic~=2.0->rio-cogeo->pygis) (4.12.2)\n",
            "Requirement already satisfied: affine in /usr/local/lib/python3.10/dist-packages (from rasterio>=1.3.8->geedim>=1.6.1->pygis) (2.4.0)\n",
            "Requirement already satisfied: cligj>=0.5 in /usr/local/lib/python3.10/dist-packages (from rasterio>=1.3.8->geedim>=1.6.1->pygis) (0.7.2)\n",
            "Requirement already satisfied: click-plugins in /usr/local/lib/python3.10/dist-packages (from rasterio>=1.3.8->geedim>=1.6.1->pygis) (1.1.1)\n",
            "Requirement already satisfied: pyparsing in /usr/local/lib/python3.10/dist-packages (from rasterio>=1.3.8->geedim>=1.6.1->pygis) (3.2.0)\n",
            "Requirement already satisfied: charset-normalizer<4,>=2 in /usr/local/lib/python3.10/dist-packages (from requests>=2.2->geedim>=1.6.1->pygis) (3.4.0)\n",
            "Requirement already satisfied: idna<4,>=2.5 in /usr/local/lib/python3.10/dist-packages (from requests>=2.2->geedim>=1.6.1->pygis) (3.10)\n",
            "Requirement already satisfied: urllib3<3,>=1.21.1 in /usr/local/lib/python3.10/dist-packages (from requests>=2.2->geedim>=1.6.1->pygis) (2.2.3)\n",
            "Requirement already satisfied: joblib>=1.2.0 in /usr/local/lib/python3.10/dist-packages (from scikit-learn>=1.0->mapclassify>=2.4.0->pygis) (1.4.2)\n",
            "Requirement already satisfied: threadpoolctl>=3.1.0 in /usr/local/lib/python3.10/dist-packages (from scikit-learn>=1.0->mapclassify>=2.4.0->pygis) (3.5.0)\n",
            "Requirement already satisfied: psygnal>=0.8.1 in /usr/local/lib/python3.10/dist-packages (from anywidget->leafmap>=0.37.5->pygis) (0.11.1)\n",
            "Requirement already satisfied: cachelib<0.10.0,>=0.9.0 in /usr/local/lib/python3.10/dist-packages (from Flask-Caching->localtileserver>=0.10.0->pygis) (0.9.0)\n",
            "Requirement already satisfied: ratelim in /usr/local/lib/python3.10/dist-packages (from geocoder->geemap>=0.34.3->pygis) (0.1.6)\n",
            "Requirement already satisfied: ipyvue<2,>=1.7 in /usr/local/lib/python3.10/dist-packages (from ipyvuetify->leafmap>=0.37.5->pygis) (1.11.2)\n",
            "Requirement already satisfied: cycler>=0.10 in /usr/local/lib/python3.10/dist-packages (from matplotlib->geemap>=0.34.3->pygis) (0.12.1)\n",
            "Requirement already satisfied: fonttools>=4.22.0 in /usr/local/lib/python3.10/dist-packages (from matplotlib->geemap>=0.34.3->pygis) (4.55.3)\n",
            "Requirement already satisfied: kiwisolver>=1.0.1 in /usr/local/lib/python3.10/dist-packages (from matplotlib->geemap>=0.34.3->pygis) (1.4.7)\n",
            "Requirement already satisfied: pystac>=1.10.0 in /usr/local/lib/python3.10/dist-packages (from pystac[validation]>=1.10.0->pystac-client->leafmap>=0.37.5->pygis) (1.11.0)\n",
            "Requirement already satisfied: PySocks!=1.5.7,>=1.5.6 in /usr/local/lib/python3.10/dist-packages (from requests[socks]->gdown->pygis) (1.7.1)\n",
            "Requirement already satisfied: cachetools in /usr/local/lib/python3.10/dist-packages (from rio-tiler->localtileserver>=0.10.0->pygis) (5.5.0)\n",
            "Requirement already satisfied: color-operations in /usr/local/lib/python3.10/dist-packages (from rio-tiler->localtileserver>=0.10.0->pygis) (0.1.6)\n",
            "Requirement already satisfied: httpx in /usr/local/lib/python3.10/dist-packages (from rio-tiler->localtileserver>=0.10.0->pygis) (0.28.1)\n",
            "Requirement already satisfied: numexpr in /usr/local/lib/python3.10/dist-packages (from rio-tiler->localtileserver>=0.10.0->pygis) (2.10.2)\n",
            "Requirement already satisfied: uvicorn in /usr/local/lib/python3.10/dist-packages (from server-thread->localtileserver>=0.10.0->pygis) (0.34.0)\n",
            "Requirement already satisfied: google-api-core!=2.0.*,!=2.1.*,!=2.2.*,!=2.3.0,<3.0.0.dev0,>=1.31.5 in /usr/local/lib/python3.10/dist-packages (from google-api-python-client>=1.12.1->earthengine-api>=0.1.379->geedim>=1.6.1->pygis) (2.19.2)\n",
            "Requirement already satisfied: uritemplate<5,>=3.0.1 in /usr/local/lib/python3.10/dist-packages (from google-api-python-client>=1.12.1->earthengine-api>=0.1.379->geedim>=1.6.1->pygis) (4.1.1)\n",
            "Requirement already satisfied: pyasn1-modules>=0.2.1 in /usr/local/lib/python3.10/dist-packages (from google-auth>=1.4.1->earthengine-api>=0.1.379->geedim>=1.6.1->pygis) (0.4.1)\n",
            "Requirement already satisfied: rsa<5,>=3.1.4 in /usr/local/lib/python3.10/dist-packages (from google-auth>=1.4.1->earthengine-api>=0.1.379->geedim>=1.6.1->pygis) (4.9)\n",
            "Requirement already satisfied: jupyter-client in /usr/local/lib/python3.10/dist-packages (from ipykernel>=4.5.1->ipywidgets->leafmap>=0.37.5->pygis) (6.1.12)\n",
            "Requirement already satisfied: setuptools>=18.5 in /usr/local/lib/python3.10/dist-packages (from ipython>=4.0.0->ipywidgets->leafmap>=0.37.5->pygis) (75.1.0)\n",
            "Requirement already satisfied: jedi>=0.16 in /usr/local/lib/python3.10/dist-packages (from ipython>=4.0.0->ipywidgets->leafmap>=0.37.5->pygis) (0.19.2)\n",
            "Requirement already satisfied: pickleshare in /usr/local/lib/python3.10/dist-packages (from ipython>=4.0.0->ipywidgets->leafmap>=0.37.5->pygis) (0.7.5)\n",
            "Requirement already satisfied: prompt-toolkit!=3.0.0,!=3.0.1,<3.1.0,>=2.0.0 in /usr/local/lib/python3.10/dist-packages (from ipython>=4.0.0->ipywidgets->leafmap>=0.37.5->pygis) (3.0.48)\n",
            "Requirement already satisfied: pygments in /usr/local/lib/python3.10/dist-packages (from ipython>=4.0.0->ipywidgets->leafmap>=0.37.5->pygis) (2.18.0)\n",
            "Requirement already satisfied: backcall in /usr/local/lib/python3.10/dist-packages (from ipython>=4.0.0->ipywidgets->leafmap>=0.37.5->pygis) (0.2.0)\n",
            "Requirement already satisfied: matplotlib-inline in /usr/local/lib/python3.10/dist-packages (from ipython>=4.0.0->ipywidgets->leafmap>=0.37.5->pygis) (0.1.7)\n",
            "Requirement already satisfied: pexpect>4.3 in /usr/local/lib/python3.10/dist-packages (from ipython>=4.0.0->ipywidgets->leafmap>=0.37.5->pygis) (4.9.0)\n",
            "Requirement already satisfied: jsonschema-specifications>=2023.03.6 in /usr/local/lib/python3.10/dist-packages (from jsonschema->flask-restx>=1.3.0->localtileserver>=0.10.0->pygis) (2024.10.1)\n",
            "Requirement already satisfied: referencing>=0.28.4 in /usr/local/lib/python3.10/dist-packages (from jsonschema->flask-restx>=1.3.0->localtileserver>=0.10.0->pygis) (0.35.1)\n",
            "Requirement already satisfied: rpds-py>=0.7.1 in /usr/local/lib/python3.10/dist-packages (from jsonschema->flask-restx>=1.3.0->localtileserver>=0.10.0->pygis) (0.22.3)\n",
            "Requirement already satisfied: notebook>=4.4.1 in /usr/local/lib/python3.10/dist-packages (from widgetsnbextension~=3.6.0->ipywidgets->leafmap>=0.37.5->pygis) (6.5.5)\n",
            "Requirement already satisfied: google-cloud-core<3.0dev,>=2.3.0 in /usr/local/lib/python3.10/dist-packages (from google-cloud-storage->earthengine-api>=0.1.379->geedim>=1.6.1->pygis) (2.4.1)\n",
            "Requirement already satisfied: google-resumable-media>=2.7.2 in /usr/local/lib/python3.10/dist-packages (from google-cloud-storage->earthengine-api>=0.1.379->geedim>=1.6.1->pygis) (2.7.2)\n",
            "Requirement already satisfied: google-crc32c<2.0dev,>=1.0 in /usr/local/lib/python3.10/dist-packages (from google-cloud-storage->earthengine-api>=0.1.379->geedim>=1.6.1->pygis) (1.6.0)\n",
            "Requirement already satisfied: anyio in /usr/local/lib/python3.10/dist-packages (from httpx->rio-tiler->localtileserver>=0.10.0->pygis) (3.7.1)\n",
            "Requirement already satisfied: httpcore==1.* in /usr/local/lib/python3.10/dist-packages (from httpx->rio-tiler->localtileserver>=0.10.0->pygis) (1.0.7)\n",
            "Requirement already satisfied: h11<0.15,>=0.13 in /usr/local/lib/python3.10/dist-packages (from httpcore==1.*->httpx->rio-tiler->localtileserver>=0.10.0->pygis) (0.14.0)\n",
            "Requirement already satisfied: googleapis-common-protos<2.0.dev0,>=1.56.2 in /usr/local/lib/python3.10/dist-packages (from google-api-core!=2.0.*,!=2.1.*,!=2.2.*,!=2.3.0,<3.0.0.dev0,>=1.31.5->google-api-python-client>=1.12.1->earthengine-api>=0.1.379->geedim>=1.6.1->pygis) (1.66.0)\n",
            "Requirement already satisfied: protobuf!=3.20.0,!=3.20.1,!=4.21.0,!=4.21.1,!=4.21.2,!=4.21.3,!=4.21.4,!=4.21.5,<6.0.0.dev0,>=3.19.5 in /usr/local/lib/python3.10/dist-packages (from google-api-core!=2.0.*,!=2.1.*,!=2.2.*,!=2.3.0,<3.0.0.dev0,>=1.31.5->google-api-python-client>=1.12.1->earthengine-api>=0.1.379->geedim>=1.6.1->pygis) (4.25.5)\n",
            "Requirement already satisfied: proto-plus<2.0.0dev,>=1.22.3 in /usr/local/lib/python3.10/dist-packages (from google-api-core!=2.0.*,!=2.1.*,!=2.2.*,!=2.3.0,<3.0.0.dev0,>=1.31.5->google-api-python-client>=1.12.1->earthengine-api>=0.1.379->geedim>=1.6.1->pygis) (1.25.0)\n",
            "Requirement already satisfied: parso<0.9.0,>=0.8.4 in /usr/local/lib/python3.10/dist-packages (from jedi>=0.16->ipython>=4.0.0->ipywidgets->leafmap>=0.37.5->pygis) (0.8.4)\n",
            "Requirement already satisfied: pyzmq<25,>=17 in /usr/local/lib/python3.10/dist-packages (from notebook>=4.4.1->widgetsnbextension~=3.6.0->ipywidgets->leafmap>=0.37.5->pygis) (24.0.1)\n",
            "Requirement already satisfied: argon2-cffi in /usr/local/lib/python3.10/dist-packages (from notebook>=4.4.1->widgetsnbextension~=3.6.0->ipywidgets->leafmap>=0.37.5->pygis) (23.1.0)\n",
            "Requirement already satisfied: jupyter-core>=4.6.1 in /usr/local/lib/python3.10/dist-packages (from notebook>=4.4.1->widgetsnbextension~=3.6.0->ipywidgets->leafmap>=0.37.5->pygis) (5.7.2)\n",
            "Requirement already satisfied: nbformat in /usr/local/lib/python3.10/dist-packages (from notebook>=4.4.1->widgetsnbextension~=3.6.0->ipywidgets->leafmap>=0.37.5->pygis) (5.10.4)\n",
            "Requirement already satisfied: nbconvert>=5 in /usr/local/lib/python3.10/dist-packages (from notebook>=4.4.1->widgetsnbextension~=3.6.0->ipywidgets->leafmap>=0.37.5->pygis) (7.16.4)\n",
            "Requirement already satisfied: nest-asyncio>=1.5 in /usr/local/lib/python3.10/dist-packages (from notebook>=4.4.1->widgetsnbextension~=3.6.0->ipywidgets->leafmap>=0.37.5->pygis) (1.6.0)\n",
            "Requirement already satisfied: Send2Trash>=1.8.0 in /usr/local/lib/python3.10/dist-packages (from notebook>=4.4.1->widgetsnbextension~=3.6.0->ipywidgets->leafmap>=0.37.5->pygis) (1.8.3)\n",
            "Requirement already satisfied: terminado>=0.8.3 in /usr/local/lib/python3.10/dist-packages (from notebook>=4.4.1->widgetsnbextension~=3.6.0->ipywidgets->leafmap>=0.37.5->pygis) (0.18.1)\n",
            "Requirement already satisfied: prometheus-client in /usr/local/lib/python3.10/dist-packages (from notebook>=4.4.1->widgetsnbextension~=3.6.0->ipywidgets->leafmap>=0.37.5->pygis) (0.21.1)\n",
            "Requirement already satisfied: nbclassic>=0.4.7 in /usr/local/lib/python3.10/dist-packages (from notebook>=4.4.1->widgetsnbextension~=3.6.0->ipywidgets->leafmap>=0.37.5->pygis) (1.1.0)\n",
            "Requirement already satisfied: ptyprocess>=0.5 in /usr/local/lib/python3.10/dist-packages (from pexpect>4.3->ipython>=4.0.0->ipywidgets->leafmap>=0.37.5->pygis) (0.7.0)\n",
            "Requirement already satisfied: wcwidth in /usr/local/lib/python3.10/dist-packages (from prompt-toolkit!=3.0.0,!=3.0.1,<3.1.0,>=2.0.0->ipython>=4.0.0->ipywidgets->leafmap>=0.37.5->pygis) (0.2.13)\n",
            "Requirement already satisfied: pyasn1<0.7.0,>=0.4.6 in /usr/local/lib/python3.10/dist-packages (from pyasn1-modules>=0.2.1->google-auth>=1.4.1->earthengine-api>=0.1.379->geedim>=1.6.1->pygis) (0.6.1)\n",
            "Requirement already satisfied: sniffio>=1.1 in /usr/local/lib/python3.10/dist-packages (from anyio->httpx->rio-tiler->localtileserver>=0.10.0->pygis) (1.3.1)\n",
            "Requirement already satisfied: exceptiongroup in /usr/local/lib/python3.10/dist-packages (from anyio->httpx->rio-tiler->localtileserver>=0.10.0->pygis) (1.2.2)\n",
            "Requirement already satisfied: platformdirs>=2.5 in /usr/local/lib/python3.10/dist-packages (from jupyter-core>=4.6.1->notebook>=4.4.1->widgetsnbextension~=3.6.0->ipywidgets->leafmap>=0.37.5->pygis) (4.3.6)\n",
            "Requirement already satisfied: notebook-shim>=0.2.3 in /usr/local/lib/python3.10/dist-packages (from nbclassic>=0.4.7->notebook>=4.4.1->widgetsnbextension~=3.6.0->ipywidgets->leafmap>=0.37.5->pygis) (0.2.4)\n",
            "Requirement already satisfied: bleach!=5.0.0 in /usr/local/lib/python3.10/dist-packages (from nbconvert>=5->notebook>=4.4.1->widgetsnbextension~=3.6.0->ipywidgets->leafmap>=0.37.5->pygis) (6.2.0)\n",
            "Requirement already satisfied: defusedxml in /usr/local/lib/python3.10/dist-packages (from nbconvert>=5->notebook>=4.4.1->widgetsnbextension~=3.6.0->ipywidgets->leafmap>=0.37.5->pygis) (0.7.1)\n",
            "Requirement already satisfied: jupyterlab-pygments in /usr/local/lib/python3.10/dist-packages (from nbconvert>=5->notebook>=4.4.1->widgetsnbextension~=3.6.0->ipywidgets->leafmap>=0.37.5->pygis) (0.3.0)\n",
            "Requirement already satisfied: mistune<4,>=2.0.3 in /usr/local/lib/python3.10/dist-packages (from nbconvert>=5->notebook>=4.4.1->widgetsnbextension~=3.6.0->ipywidgets->leafmap>=0.37.5->pygis) (3.0.2)\n",
            "Requirement already satisfied: nbclient>=0.5.0 in /usr/local/lib/python3.10/dist-packages (from nbconvert>=5->notebook>=4.4.1->widgetsnbextension~=3.6.0->ipywidgets->leafmap>=0.37.5->pygis) (0.10.1)\n",
            "Requirement already satisfied: pandocfilters>=1.4.1 in /usr/local/lib/python3.10/dist-packages (from nbconvert>=5->notebook>=4.4.1->widgetsnbextension~=3.6.0->ipywidgets->leafmap>=0.37.5->pygis) (1.5.1)\n",
            "Requirement already satisfied: tinycss2 in /usr/local/lib/python3.10/dist-packages (from nbconvert>=5->notebook>=4.4.1->widgetsnbextension~=3.6.0->ipywidgets->leafmap>=0.37.5->pygis) (1.4.0)\n",
            "Requirement already satisfied: fastjsonschema>=2.15 in /usr/local/lib/python3.10/dist-packages (from nbformat->notebook>=4.4.1->widgetsnbextension~=3.6.0->ipywidgets->leafmap>=0.37.5->pygis) (2.21.1)\n",
            "Requirement already satisfied: argon2-cffi-bindings in /usr/local/lib/python3.10/dist-packages (from argon2-cffi->notebook>=4.4.1->widgetsnbextension~=3.6.0->ipywidgets->leafmap>=0.37.5->pygis) (21.2.0)\n",
            "Requirement already satisfied: webencodings in /usr/local/lib/python3.10/dist-packages (from bleach!=5.0.0->nbconvert>=5->notebook>=4.4.1->widgetsnbextension~=3.6.0->ipywidgets->leafmap>=0.37.5->pygis) (0.5.1)\n",
            "Requirement already satisfied: jupyter-server<3,>=1.8 in /usr/local/lib/python3.10/dist-packages (from notebook-shim>=0.2.3->nbclassic>=0.4.7->notebook>=4.4.1->widgetsnbextension~=3.6.0->ipywidgets->leafmap>=0.37.5->pygis) (1.24.0)\n",
            "Requirement already satisfied: cffi>=1.0.1 in /usr/local/lib/python3.10/dist-packages (from argon2-cffi-bindings->argon2-cffi->notebook>=4.4.1->widgetsnbextension~=3.6.0->ipywidgets->leafmap>=0.37.5->pygis) (1.17.1)\n",
            "Requirement already satisfied: pycparser in /usr/local/lib/python3.10/dist-packages (from cffi>=1.0.1->argon2-cffi-bindings->argon2-cffi->notebook>=4.4.1->widgetsnbextension~=3.6.0->ipywidgets->leafmap>=0.37.5->pygis) (2.22)\n",
            "Requirement already satisfied: websocket-client in /usr/local/lib/python3.10/dist-packages (from jupyter-server<3,>=1.8->notebook-shim>=0.2.3->nbclassic>=0.4.7->notebook>=4.4.1->widgetsnbextension~=3.6.0->ipywidgets->leafmap>=0.37.5->pygis) (1.8.0)\n"
          ]
        }
      ],
      "source": [
        " %pip install pygis"
      ],
      "id": "uuZ_rJ4IxWOg"
    },
    {
      "cell_type": "code",
      "execution_count": 9,
      "metadata": {
        "id": "L1DbyqedxWOh",
        "outputId": "516e8389-80f8-465d-bde8-eb8a9de2b05c",
        "colab": {
          "base_uri": "https://localhost:8080/",
          "height": 17
        }
      },
      "outputs": [
        {
          "output_type": "display_data",
          "data": {
            "text/plain": [
              "<IPython.core.display.HTML object>"
            ],
            "text/html": [
              "\n",
              "            <style>\n",
              "                .geemap-dark {\n",
              "                    --jp-widgets-color: white;\n",
              "                    --jp-widgets-label-color: white;\n",
              "                    --jp-ui-font-color1: white;\n",
              "                    --jp-layout-color2: #454545;\n",
              "                    background-color: #383838;\n",
              "                }\n",
              "\n",
              "                .geemap-dark .jupyter-button {\n",
              "                    --jp-layout-color3: #383838;\n",
              "                }\n",
              "\n",
              "                .geemap-colab {\n",
              "                    background-color: var(--colab-primary-surface-color, white);\n",
              "                }\n",
              "\n",
              "                .geemap-colab .jupyter-button {\n",
              "                    --jp-layout-color3: var(--colab-primary-surface-color, white);\n",
              "                }\n",
              "            </style>\n",
              "            "
            ]
          },
          "metadata": {}
        }
      ],
      "source": [
        "import ee\n",
        "import geemap"
      ],
      "id": "L1DbyqedxWOh"
    },
    {
      "cell_type": "code",
      "source": [
        "ee.Initialize(project='ee-wuqiusheng1')"
      ],
      "metadata": {
        "id": "PP2g7NAk1Kga",
        "outputId": "0bbde957-19b4-420f-8639-8b39a8b5c767",
        "colab": {
          "base_uri": "https://localhost:8080/",
          "height": 17
        }
      },
      "id": "PP2g7NAk1Kga",
      "execution_count": 24,
      "outputs": [
        {
          "output_type": "display_data",
          "data": {
            "text/plain": [
              "<IPython.core.display.HTML object>"
            ],
            "text/html": [
              "\n",
              "            <style>\n",
              "                .geemap-dark {\n",
              "                    --jp-widgets-color: white;\n",
              "                    --jp-widgets-label-color: white;\n",
              "                    --jp-ui-font-color1: white;\n",
              "                    --jp-layout-color2: #454545;\n",
              "                    background-color: #383838;\n",
              "                }\n",
              "\n",
              "                .geemap-dark .jupyter-button {\n",
              "                    --jp-layout-color3: #383838;\n",
              "                }\n",
              "\n",
              "                .geemap-colab {\n",
              "                    background-color: var(--colab-primary-surface-color, white);\n",
              "                }\n",
              "\n",
              "                .geemap-colab .jupyter-button {\n",
              "                    --jp-layout-color3: var(--colab-primary-surface-color, white);\n",
              "                }\n",
              "            </style>\n",
              "            "
            ]
          },
          "metadata": {}
        }
      ]
    },
    {
      "cell_type": "code",
      "execution_count": 25,
      "metadata": {
        "id": "3Z8X5fQbxWOi",
        "outputId": "542b10b0-05ce-41d8-d7e0-d45a8e93ef6c",
        "colab": {
          "base_uri": "https://localhost:8080/",
          "height": 17
        }
      },
      "outputs": [
        {
          "output_type": "display_data",
          "data": {
            "text/plain": [
              "<IPython.core.display.HTML object>"
            ],
            "text/html": [
              "\n",
              "            <style>\n",
              "                .geemap-dark {\n",
              "                    --jp-widgets-color: white;\n",
              "                    --jp-widgets-label-color: white;\n",
              "                    --jp-ui-font-color1: white;\n",
              "                    --jp-layout-color2: #454545;\n",
              "                    background-color: #383838;\n",
              "                }\n",
              "\n",
              "                .geemap-dark .jupyter-button {\n",
              "                    --jp-layout-color3: #383838;\n",
              "                }\n",
              "\n",
              "                .geemap-colab {\n",
              "                    background-color: var(--colab-primary-surface-color, white);\n",
              "                }\n",
              "\n",
              "                .geemap-colab .jupyter-button {\n",
              "                    --jp-layout-color3: var(--colab-primary-surface-color, white);\n",
              "                }\n",
              "            </style>\n",
              "            "
            ]
          },
          "metadata": {}
        }
      ],
      "source": [
        "geemap.ee_initialize()"
      ],
      "id": "3Z8X5fQbxWOi"
    },
    {
      "cell_type": "code",
      "source": [
        "try:\n",
        "    asset_roots = ee.data.getAssetRoots()\n",
        "    print(\"成功切换到项目:\", PROJECT_ID)\n",
        "    print(\"资产根目录信息:\")\n",
        "    for root in asset_roots:\n",
        "        print(f\" - {root['id']}: {root['title']}\")\n",
        "except ee.EEException as e:\n",
        "    print(\"初始化 Earth Engine 时出错:\", e)"
      ],
      "metadata": {
        "id": "_83e1p6l061X",
        "outputId": "6f12e86a-c3a0-448c-ed2b-8ba26179265e",
        "colab": {
          "base_uri": "https://localhost:8080/",
          "height": 210
        }
      },
      "id": "_83e1p6l061X",
      "execution_count": 27,
      "outputs": [
        {
          "output_type": "display_data",
          "data": {
            "text/plain": [
              "<IPython.core.display.HTML object>"
            ],
            "text/html": [
              "\n",
              "            <style>\n",
              "                .geemap-dark {\n",
              "                    --jp-widgets-color: white;\n",
              "                    --jp-widgets-label-color: white;\n",
              "                    --jp-ui-font-color1: white;\n",
              "                    --jp-layout-color2: #454545;\n",
              "                    background-color: #383838;\n",
              "                }\n",
              "\n",
              "                .geemap-dark .jupyter-button {\n",
              "                    --jp-layout-color3: #383838;\n",
              "                }\n",
              "\n",
              "                .geemap-colab {\n",
              "                    background-color: var(--colab-primary-surface-color, white);\n",
              "                }\n",
              "\n",
              "                .geemap-colab .jupyter-button {\n",
              "                    --jp-layout-color3: var(--colab-primary-surface-color, white);\n",
              "                }\n",
              "            </style>\n",
              "            "
            ]
          },
          "metadata": {}
        },
        {
          "output_type": "error",
          "ename": "NameError",
          "evalue": "name 'PROJECT_ID' is not defined",
          "traceback": [
            "\u001b[0;31m---------------------------------------------------------------------------\u001b[0m",
            "\u001b[0;31mNameError\u001b[0m                                 Traceback (most recent call last)",
            "\u001b[0;32m<ipython-input-27-4d90cbb126e4>\u001b[0m in \u001b[0;36m<cell line: 1>\u001b[0;34m()\u001b[0m\n\u001b[1;32m      1\u001b[0m \u001b[0;32mtry\u001b[0m\u001b[0;34m:\u001b[0m\u001b[0;34m\u001b[0m\u001b[0;34m\u001b[0m\u001b[0m\n\u001b[1;32m      2\u001b[0m     \u001b[0masset_roots\u001b[0m \u001b[0;34m=\u001b[0m \u001b[0mee\u001b[0m\u001b[0;34m.\u001b[0m\u001b[0mdata\u001b[0m\u001b[0;34m.\u001b[0m\u001b[0mgetAssetRoots\u001b[0m\u001b[0;34m(\u001b[0m\u001b[0;34m)\u001b[0m\u001b[0;34m\u001b[0m\u001b[0;34m\u001b[0m\u001b[0m\n\u001b[0;32m----> 3\u001b[0;31m     \u001b[0mprint\u001b[0m\u001b[0;34m(\u001b[0m\u001b[0;34m\"成功切换到项目:\"\u001b[0m\u001b[0;34m,\u001b[0m \u001b[0mPROJECT_ID\u001b[0m\u001b[0;34m)\u001b[0m\u001b[0;34m\u001b[0m\u001b[0;34m\u001b[0m\u001b[0m\n\u001b[0m\u001b[1;32m      4\u001b[0m     \u001b[0mprint\u001b[0m\u001b[0;34m(\u001b[0m\u001b[0;34m\"资产根目录信息:\"\u001b[0m\u001b[0;34m)\u001b[0m\u001b[0;34m\u001b[0m\u001b[0;34m\u001b[0m\u001b[0m\n\u001b[1;32m      5\u001b[0m     \u001b[0;32mfor\u001b[0m \u001b[0mroot\u001b[0m \u001b[0;32min\u001b[0m \u001b[0masset_roots\u001b[0m\u001b[0;34m:\u001b[0m\u001b[0;34m\u001b[0m\u001b[0;34m\u001b[0m\u001b[0m\n",
            "\u001b[0;31mNameError\u001b[0m: name 'PROJECT_ID' is not defined"
          ]
        }
      ]
    },
    {
      "cell_type": "markdown",
      "metadata": {
        "id": "uoygdafWxWOi"
      },
      "source": [
        "## Plotting backends\n",
        "\n",
        "### Ipyleaflet"
      ],
      "id": "uoygdafWxWOi"
    },
    {
      "cell_type": "code",
      "execution_count": 28,
      "metadata": {
        "id": "melYW43nxWOi",
        "outputId": "7182c064-e26c-4153-9918-22444ba1e770",
        "colab": {
          "base_uri": "https://localhost:8080/",
          "height": 17
        }
      },
      "outputs": [
        {
          "output_type": "display_data",
          "data": {
            "text/plain": [
              "<IPython.core.display.HTML object>"
            ],
            "text/html": [
              "\n",
              "            <style>\n",
              "                .geemap-dark {\n",
              "                    --jp-widgets-color: white;\n",
              "                    --jp-widgets-label-color: white;\n",
              "                    --jp-ui-font-color1: white;\n",
              "                    --jp-layout-color2: #454545;\n",
              "                    background-color: #383838;\n",
              "                }\n",
              "\n",
              "                .geemap-dark .jupyter-button {\n",
              "                    --jp-layout-color3: #383838;\n",
              "                }\n",
              "\n",
              "                .geemap-colab {\n",
              "                    background-color: var(--colab-primary-surface-color, white);\n",
              "                }\n",
              "\n",
              "                .geemap-colab .jupyter-button {\n",
              "                    --jp-layout-color3: var(--colab-primary-surface-color, white);\n",
              "                }\n",
              "            </style>\n",
              "            "
            ]
          },
          "metadata": {}
        }
      ],
      "source": [
        "import geemap"
      ],
      "id": "melYW43nxWOi"
    },
    {
      "cell_type": "code",
      "execution_count": 29,
      "metadata": {
        "id": "NthGeZDGxWOi",
        "outputId": "e3618282-158c-476f-c828-49ca537c51fd",
        "colab": {
          "base_uri": "https://localhost:8080/",
          "height": 17
        }
      },
      "outputs": [
        {
          "output_type": "display_data",
          "data": {
            "text/plain": [
              "<IPython.core.display.HTML object>"
            ],
            "text/html": [
              "\n",
              "            <style>\n",
              "                .geemap-dark {\n",
              "                    --jp-widgets-color: white;\n",
              "                    --jp-widgets-label-color: white;\n",
              "                    --jp-ui-font-color1: white;\n",
              "                    --jp-layout-color2: #454545;\n",
              "                    background-color: #383838;\n",
              "                }\n",
              "\n",
              "                .geemap-dark .jupyter-button {\n",
              "                    --jp-layout-color3: #383838;\n",
              "                }\n",
              "\n",
              "                .geemap-colab {\n",
              "                    background-color: var(--colab-primary-surface-color, white);\n",
              "                }\n",
              "\n",
              "                .geemap-colab .jupyter-button {\n",
              "                    --jp-layout-color3: var(--colab-primary-surface-color, white);\n",
              "                }\n",
              "            </style>\n",
              "            "
            ]
          },
          "metadata": {}
        }
      ],
      "source": [
        "Map = geemap.Map()"
      ],
      "id": "NthGeZDGxWOi"
    },
    {
      "cell_type": "code",
      "execution_count": 30,
      "metadata": {
        "id": "b8Gl8-I7xWOj",
        "outputId": "a41349c4-a7ea-484e-cfcb-8e61e95ec400",
        "colab": {
          "base_uri": "https://localhost:8080/",
          "height": 621,
          "referenced_widgets": [
            "4a94e072b44941768cda334ac8e2515f",
            "c784ce3819b148ffb0c7f8b01f5986c3",
            "18d3858781f6485a961b2c23485dc85c",
            "4f7aac271ec647f787915147975ca755",
            "ba5a376ced49427e844177ec03861b9e",
            "4225d3c42a784d4b8eb6c4a7092f9eaf",
            "1e78e1ae8c474168a7c75a4ad54a30ef",
            "3c5f237304ad4b7e9a99ee31aebd8002",
            "54cf856394a9485c911a07db4280ccc7",
            "3ed5992cd76344358c7d50a6424390a4",
            "16d6da04abf746a98a3e4d95d9e6f944",
            "6a960de696f844c2835202034a63ffe6",
            "9b29118956b140398cfc396f0302416d",
            "963e5217aedd474ea05925c28dfe06b7",
            "4a8338033a3346bfba989f12b627b9a5",
            "c9b8275581974571862b6ef7ad409932",
            "96930a29661041afa2c1dad0475edae5",
            "9aed21c7a1984e818a0f4fb018bc0c15",
            "17ba3755e4b8450984004109f32b1551",
            "185a9d5ab2014ba68c59968396ebf57c",
            "0ecc38b444cf4f07a09bf7cbceeaecd6",
            "b2c756e8d4bd4f07819bc0cd0566a8f9",
            "d9845709777148709e9b72057ed19146",
            "aca4ae0a73804ef780756b598818e250",
            "7f0d37131eca4a5088ca6dcc2c4cffc3",
            "9c182532d0bb4df8ae58f2d11bc8f325",
            "dfc7ab9e5c034d4eac851214fb817d3a",
            "43c1aa65c4934460b132f5700d1cb9e8",
            "dcaec4b6a82a47c8921eb0636170a14a",
            "36f27b1e3c2747cfb8742dc21ad3d3ac",
            "9b1cb20b264840fda7d80b1de58afed1",
            "462cff70484d42f7a776c7d98d9fb36a",
            "7aad4909f78c4ce383df8650bac7ea00",
            "23cd51d2fea940caa5aa810f18fb2fbc",
            "3264c64bdf664e70a95aff12cdaa3779",
            "dbcd9912b06a45908cb29bd43121ac1e",
            "1da7d0d82b294ac0906aca64e9ed97d5",
            "71365a75df5c4a4791bfbb43f6167ed7",
            "c67cfa0f91434a1ead68f21418d9c7aa",
            "38db66389797492ebf59e96211b208f8",
            "13f7d819ba3049258330e6b753696f32",
            "0a91603f7dc54951b36f25a83371f70e",
            "96becf1e745d42ff9b7be8962e3f1e1d",
            "f8967d2533e54236bb88ca693c42758f",
            "21bb1f2809ff40eb953bad3e79899533",
            "82e6495d05ef4bf4a5bb61b500387b58",
            "62ee66e8aeaf42f187800176ae28f880",
            "57f8367aa3f443ce8e72dd6e2ddc7555",
            "896bc9e74ea94c3291a61e40526f3682",
            "2e6131203a364b04b354763bb1e45921",
            "5fffc99fe7c1484d8a79eff2e2fcdf50",
            "0073cb367c31476dbef411e22db20d0d",
            "b03b9f6fc4644154b9036f399c591c67",
            "9a52256a11684e669e0105299e7b7166",
            "49653ad455ed4682a1d42e99ed101b45",
            "a1f5b764b87f4b1ea908a249b2847e60",
            "30ec536bd81a467c8a22f5d230456135",
            "9adf5d88c27044fd930daf9e36156e85",
            "41d0a1e0cb3c45c891931aa42746ca48",
            "00eaa7558dda49ffb56d0d1db69af5f7"
          ]
        }
      },
      "outputs": [
        {
          "output_type": "display_data",
          "data": {
            "text/plain": [
              "<IPython.core.display.HTML object>"
            ],
            "text/html": [
              "\n",
              "            <style>\n",
              "                .geemap-dark {\n",
              "                    --jp-widgets-color: white;\n",
              "                    --jp-widgets-label-color: white;\n",
              "                    --jp-ui-font-color1: white;\n",
              "                    --jp-layout-color2: #454545;\n",
              "                    background-color: #383838;\n",
              "                }\n",
              "\n",
              "                .geemap-dark .jupyter-button {\n",
              "                    --jp-layout-color3: #383838;\n",
              "                }\n",
              "\n",
              "                .geemap-colab {\n",
              "                    background-color: var(--colab-primary-surface-color, white);\n",
              "                }\n",
              "\n",
              "                .geemap-colab .jupyter-button {\n",
              "                    --jp-layout-color3: var(--colab-primary-surface-color, white);\n",
              "                }\n",
              "            </style>\n",
              "            "
            ]
          },
          "metadata": {}
        },
        {
          "output_type": "display_data",
          "data": {
            "text/plain": [
              "Map(center=[0, 0], controls=(WidgetControl(options=['position', 'transparent_bg'], widget=SearchDataGUI(childr…"
            ],
            "application/vnd.jupyter.widget-view+json": {
              "version_major": 2,
              "version_minor": 0,
              "model_id": "4a94e072b44941768cda334ac8e2515f"
            }
          },
          "metadata": {
            "application/vnd.jupyter.widget-view+json": {
              "colab": {
                "custom_widget_manager": {
                  "url": "https://ssl.gstatic.com/colaboratory-static/widgets/colab-cdn-widget-manager/2b70e893a8ba7c0f/manager.min.js"
                }
              }
            }
          }
        }
      ],
      "source": [
        "Map"
      ],
      "id": "b8Gl8-I7xWOj"
    },
    {
      "cell_type": "code",
      "execution_count": null,
      "metadata": {
        "id": "NzabqZI1xWOj"
      },
      "outputs": [],
      "source": [
        "Map = geemap.Map(center=[40, -100], zoom=4, height=600)\n",
        "Map"
      ],
      "id": "NzabqZI1xWOj"
    },
    {
      "cell_type": "code",
      "execution_count": null,
      "metadata": {
        "id": "I9cQFnMXxWOj"
      },
      "outputs": [],
      "source": [
        "Map = geemap.Map(data_ctrl=False, toolbar_ctrl=False, draw_ctrl=False)\n",
        "Map"
      ],
      "id": "I9cQFnMXxWOj"
    },
    {
      "cell_type": "code",
      "execution_count": null,
      "metadata": {
        "id": "j1pxuz1CxWOk"
      },
      "outputs": [],
      "source": [
        "Map = geemap.Map(lite_mode=True)\n",
        "Map"
      ],
      "id": "j1pxuz1CxWOk"
    },
    {
      "cell_type": "code",
      "execution_count": null,
      "metadata": {
        "id": "UKAEAUjmxWOk"
      },
      "outputs": [],
      "source": [
        "Map.save('ipyleaflet.html')"
      ],
      "id": "UKAEAUjmxWOk"
    },
    {
      "cell_type": "markdown",
      "metadata": {
        "id": "MBsn1yFNxWOk"
      },
      "source": [
        "### Folium"
      ],
      "id": "MBsn1yFNxWOk"
    },
    {
      "cell_type": "code",
      "execution_count": null,
      "metadata": {
        "id": "ssdoZOJixWOk"
      },
      "outputs": [],
      "source": [
        "import geemap.foliumap as geemap"
      ],
      "id": "ssdoZOJixWOk"
    },
    {
      "cell_type": "code",
      "execution_count": null,
      "metadata": {
        "id": "MIyyDXk5xWOl"
      },
      "outputs": [],
      "source": [
        "Map = geemap.Map(center=[40, -100], zoom=4, height=600)\n",
        "Map"
      ],
      "id": "MIyyDXk5xWOl"
    },
    {
      "cell_type": "code",
      "execution_count": null,
      "metadata": {
        "id": "xH9-14OFxWOl"
      },
      "outputs": [],
      "source": [
        "Map.save('folium.html')"
      ],
      "id": "xH9-14OFxWOl"
    },
    {
      "cell_type": "markdown",
      "metadata": {
        "id": "W-diNjDSxWOl"
      },
      "source": [
        "### Plotly"
      ],
      "id": "W-diNjDSxWOl"
    },
    {
      "cell_type": "code",
      "execution_count": null,
      "metadata": {
        "id": "GwILBZUCxWOl"
      },
      "outputs": [],
      "source": [
        "import geemap.plotlymap as geemap"
      ],
      "id": "GwILBZUCxWOl"
    },
    {
      "cell_type": "code",
      "execution_count": null,
      "metadata": {
        "id": "ZnJf3QmZxWOl"
      },
      "outputs": [],
      "source": [
        "Map = geemap.Map()\n",
        "Map"
      ],
      "id": "ZnJf3QmZxWOl"
    },
    {
      "cell_type": "code",
      "execution_count": null,
      "metadata": {
        "id": "s7mNm-CbxWOl"
      },
      "outputs": [],
      "source": [
        "# geemap.fix_widget_error()"
      ],
      "id": "s7mNm-CbxWOl"
    },
    {
      "cell_type": "markdown",
      "metadata": {
        "id": "itnXJuEYxWOl"
      },
      "source": [
        "### Pydeck"
      ],
      "id": "itnXJuEYxWOl"
    },
    {
      "cell_type": "code",
      "execution_count": null,
      "metadata": {
        "id": "faf2I6nsxWOl"
      },
      "outputs": [],
      "source": [
        "import geemap.deck as geemap"
      ],
      "id": "faf2I6nsxWOl"
    },
    {
      "cell_type": "code",
      "execution_count": null,
      "metadata": {
        "id": "Sx1wKYVaxWOm"
      },
      "outputs": [],
      "source": [
        "Map = geemap.Map()\n",
        "Map"
      ],
      "id": "Sx1wKYVaxWOm"
    },
    {
      "cell_type": "markdown",
      "metadata": {
        "id": "lJoM65WPxWOm"
      },
      "source": [
        "### KeplerGL"
      ],
      "id": "lJoM65WPxWOm"
    },
    {
      "cell_type": "code",
      "execution_count": null,
      "metadata": {
        "id": "i3-ko5-QxWOm"
      },
      "outputs": [],
      "source": [
        "import geemap.kepler as geemap"
      ],
      "id": "i3-ko5-QxWOm"
    },
    {
      "cell_type": "code",
      "execution_count": null,
      "metadata": {
        "id": "5OnPgfZ-xWOm"
      },
      "outputs": [],
      "source": [
        "Map = geemap.Map()\n",
        "Map"
      ],
      "id": "5OnPgfZ-xWOm"
    },
    {
      "cell_type": "markdown",
      "metadata": {
        "id": "HGgK8T9zxWOm"
      },
      "source": [
        "## Adding basemaps\n",
        "\n",
        "### Built-in basemaps"
      ],
      "id": "HGgK8T9zxWOm"
    },
    {
      "cell_type": "code",
      "execution_count": null,
      "metadata": {
        "id": "2E8n2DzmxWOm"
      },
      "outputs": [],
      "source": [
        "import geemap"
      ],
      "id": "2E8n2DzmxWOm"
    },
    {
      "cell_type": "code",
      "execution_count": null,
      "metadata": {
        "id": "rvbimFBlxWOm"
      },
      "outputs": [],
      "source": [
        "Map = geemap.Map(basemap='HYBRID')\n",
        "Map"
      ],
      "id": "rvbimFBlxWOm"
    },
    {
      "cell_type": "code",
      "execution_count": null,
      "metadata": {
        "id": "FxKJGXGYxWOm"
      },
      "outputs": [],
      "source": [
        "Map.add_basemap('OpenTopoMap')"
      ],
      "id": "FxKJGXGYxWOm"
    },
    {
      "cell_type": "code",
      "execution_count": null,
      "metadata": {
        "id": "c_tRM4LaxWOm"
      },
      "outputs": [],
      "source": [
        "for basemap in geemap.basemaps.keys():\n",
        "    print(basemap)"
      ],
      "id": "c_tRM4LaxWOm"
    },
    {
      "cell_type": "code",
      "execution_count": null,
      "metadata": {
        "id": "gCnx6p_-xWOn"
      },
      "outputs": [],
      "source": [
        "len(geemap.basemaps)"
      ],
      "id": "gCnx6p_-xWOn"
    },
    {
      "cell_type": "markdown",
      "metadata": {
        "id": "VE_cXPLpxWOn"
      },
      "source": [
        "### XYZ tiles"
      ],
      "id": "VE_cXPLpxWOn"
    },
    {
      "cell_type": "code",
      "execution_count": null,
      "metadata": {
        "id": "NUdyYsKSxWOn"
      },
      "outputs": [],
      "source": [
        "Map = geemap.Map()\n",
        "Map.add_tile_layer(\n",
        "    url=\"https://mt1.google.com/vt/lyrs=p&x={x}&y={y}&z={z}\",\n",
        "    name=\"Google Terrain\",\n",
        "    attribution=\"Google\",\n",
        ")\n",
        "Map"
      ],
      "id": "NUdyYsKSxWOn"
    },
    {
      "cell_type": "markdown",
      "metadata": {
        "id": "S251ZQWfxWOn"
      },
      "source": [
        "### WMS tiles"
      ],
      "id": "S251ZQWfxWOn"
    },
    {
      "cell_type": "code",
      "execution_count": null,
      "metadata": {
        "id": "V2zOKZdxxWOn"
      },
      "outputs": [],
      "source": [
        "Map = geemap.Map(center=[40, -100], zoom=4)\n",
        "url = 'https://www.mrlc.gov/geoserver/mrlc_display/NLCD_2019_Land_Cover_L48/wms?'\n",
        "Map.add_wms_layer(\n",
        "    url=url,\n",
        "    layers='NLCD_2019_Land_Cover_L48',\n",
        "    name='NLCD 2019',\n",
        "    format='image/png',\n",
        "    attribution='MRLC',\n",
        "    transparent=True,\n",
        ")\n",
        "Map"
      ],
      "id": "V2zOKZdxxWOn"
    },
    {
      "cell_type": "markdown",
      "metadata": {
        "id": "591BR_TYxWOn"
      },
      "source": [
        "### Planet basemaps"
      ],
      "id": "591BR_TYxWOn"
    },
    {
      "cell_type": "code",
      "execution_count": null,
      "metadata": {
        "id": "jUaMZ30kxWOn"
      },
      "outputs": [],
      "source": [
        "import os\n",
        "\n",
        "os.environ[\"PLANET_API_KEY\"] = \"YOUR_API_KEY\""
      ],
      "id": "jUaMZ30kxWOn"
    },
    {
      "cell_type": "code",
      "execution_count": null,
      "metadata": {
        "id": "6wM4DV-8xWOn"
      },
      "outputs": [],
      "source": [
        "quarterly_tiles = geemap.planet_quarterly_tiles()\n",
        "for tile in quarterly_tiles:\n",
        "    print(tile)"
      ],
      "id": "6wM4DV-8xWOn"
    },
    {
      "cell_type": "code",
      "execution_count": null,
      "metadata": {
        "id": "hT8jPoFYxWOs"
      },
      "outputs": [],
      "source": [
        "monthly_tiles = geemap.planet_monthly_tiles()\n",
        "for tile in monthly_tiles:\n",
        "    print(tile)"
      ],
      "id": "hT8jPoFYxWOs"
    },
    {
      "cell_type": "code",
      "execution_count": null,
      "metadata": {
        "id": "Ee8YrwWdxWOs"
      },
      "outputs": [],
      "source": [
        "Map = geemap.Map()\n",
        "Map.add_planet_by_month(year=2020, month=8)\n",
        "Map"
      ],
      "id": "Ee8YrwWdxWOs"
    },
    {
      "cell_type": "code",
      "execution_count": null,
      "metadata": {
        "id": "HEDPmCpsxWOs"
      },
      "outputs": [],
      "source": [
        "Map = geemap.Map()\n",
        "Map.add_planet_by_quarter(year=2019, quarter=2)\n",
        "Map"
      ],
      "id": "HEDPmCpsxWOs"
    },
    {
      "cell_type": "markdown",
      "metadata": {
        "id": "7pYMNkXVxWOt"
      },
      "source": [
        "### Basemap GUI"
      ],
      "id": "7pYMNkXVxWOt"
    },
    {
      "cell_type": "code",
      "execution_count": null,
      "metadata": {
        "id": "fzyzQHQXxWOt"
      },
      "outputs": [],
      "source": [
        "import os\n",
        "\n",
        "os.environ[\"PLANET_API_KEY\"] = \"YOUR_API_KEY\""
      ],
      "id": "fzyzQHQXxWOt"
    },
    {
      "cell_type": "code",
      "execution_count": null,
      "metadata": {
        "id": "JdL12KA2xWOt"
      },
      "outputs": [],
      "source": [
        "Map = geemap.Map()\n",
        "Map"
      ],
      "id": "JdL12KA2xWOt"
    },
    {
      "cell_type": "markdown",
      "metadata": {
        "id": "R1jHR6j4xWOt"
      },
      "source": [
        "## Summary"
      ],
      "id": "R1jHR6j4xWOt"
    }
  ],
  "metadata": {
    "kernelspec": {
      "display_name": "Python 3",
      "language": "python",
      "name": "python3"
    },
    "colab": {
      "provenance": []
    },
    "widgets": {
      "application/vnd.jupyter.widget-state+json": {
        "4a94e072b44941768cda334ac8e2515f": {
          "model_module": "jupyter-leaflet",
          "model_name": "LeafletMapModel",
          "model_module_version": "^0.19",
          "state": {
            "_dom_classes": [],
            "_model_module": "jupyter-leaflet",
            "_model_module_version": "^0.19",
            "_model_name": "LeafletMapModel",
            "_view_count": null,
            "_view_module": "jupyter-leaflet",
            "_view_module_version": "^0.19",
            "_view_name": "LeafletMapView",
            "bottom": 572,
            "bounce_at_zoom_limits": true,
            "box_zoom": true,
            "center": [
              -11.178401873711772,
              254.8828456676224
            ],
            "close_popup_on_click": true,
            "controls": [
              "IPY_MODEL_c784ce3819b148ffb0c7f8b01f5986c3",
              "IPY_MODEL_18d3858781f6485a961b2c23485dc85c",
              "IPY_MODEL_4f7aac271ec647f787915147975ca755",
              "IPY_MODEL_ba5a376ced49427e844177ec03861b9e",
              "IPY_MODEL_4225d3c42a784d4b8eb6c4a7092f9eaf",
              "IPY_MODEL_1e78e1ae8c474168a7c75a4ad54a30ef",
              "IPY_MODEL_3c5f237304ad4b7e9a99ee31aebd8002",
              "IPY_MODEL_54cf856394a9485c911a07db4280ccc7"
            ],
            "crs": {
              "name": "EPSG3857",
              "custom": false
            },
            "default_style": "IPY_MODEL_3ed5992cd76344358c7d50a6424390a4",
            "double_click_zoom": true,
            "dragging": true,
            "dragging_style": "IPY_MODEL_16d6da04abf746a98a3e4d95d9e6f944",
            "east": 835.3125331676224,
            "fullscreen": false,
            "inertia": true,
            "inertia_deceleration": 3000,
            "inertia_max_speed": 1500,
            "interpolation": "bilinear",
            "keyboard": true,
            "keyboard_pan_offset": 80,
            "keyboard_zoom_offset": 1,
            "layers": [
              "IPY_MODEL_6a960de696f844c2835202034a63ffe6"
            ],
            "layout": "IPY_MODEL_9b29118956b140398cfc396f0302416d",
            "left": -206.9999528282705,
            "max_zoom": 24,
            "min_zoom": null,
            "modisdate": "2024-12-23",
            "north": 86.48915470512594,
            "options": [
              "bounce_at_zoom_limits",
              "box_zoom",
              "center",
              "close_popup_on_click",
              "double_click_zoom",
              "dragging",
              "fullscreen",
              "inertia",
              "inertia_deceleration",
              "inertia_max_speed",
              "interpolation",
              "keyboard",
              "keyboard_pan_offset",
              "keyboard_zoom_offset",
              "max_zoom",
              "min_zoom",
              "prefer_canvas",
              "scroll_wheel_zoom",
              "tap",
              "tap_tolerance",
              "touch_zoom",
              "world_copy_jump",
              "zoom",
              "zoom_animation_threshold",
              "zoom_delta",
              "zoom_snap"
            ],
            "panes": {},
            "prefer_canvas": false,
            "right": 1444.0000471717294,
            "scroll_wheel_zoom": true,
            "south": -87.62896162809474,
            "style": "IPY_MODEL_3ed5992cd76344358c7d50a6424390a4",
            "tap": true,
            "tap_tolerance": 15,
            "top": -28,
            "touch_zoom": true,
            "west": -325.5468418323777,
            "window_url": "https://j6lu3z6hag7-496ff2e9c6d22116-0-colab.googleusercontent.com/outputframe.html?vrz=colab_20241219-060121_RC00_707879646",
            "world_copy_jump": false,
            "zoom": 1,
            "zoom_animation_threshold": 4,
            "zoom_delta": 1,
            "zoom_snap": 1
          }
        },
        "c784ce3819b148ffb0c7f8b01f5986c3": {
          "model_module": "jupyter-leaflet",
          "model_name": "LeafletWidgetControlModel",
          "model_module_version": "^0.19",
          "state": {
            "_model_module": "jupyter-leaflet",
            "_model_module_version": "^0.19",
            "_model_name": "LeafletWidgetControlModel",
            "_view_count": null,
            "_view_module": "jupyter-leaflet",
            "_view_module_version": "^0.19",
            "_view_name": "LeafletWidgetControlView",
            "max_height": null,
            "max_width": null,
            "min_height": null,
            "min_width": null,
            "options": [
              "position",
              "transparent_bg"
            ],
            "position": "topleft",
            "transparent_bg": false,
            "widget": "IPY_MODEL_4a8338033a3346bfba989f12b627b9a5"
          }
        },
        "18d3858781f6485a961b2c23485dc85c": {
          "model_module": "jupyter-leaflet",
          "model_name": "LeafletZoomControlModel",
          "model_module_version": "^0.19",
          "state": {
            "_model_module": "jupyter-leaflet",
            "_model_module_version": "^0.19",
            "_model_name": "LeafletZoomControlModel",
            "_view_count": null,
            "_view_module": "jupyter-leaflet",
            "_view_module_version": "^0.19",
            "_view_name": "LeafletZoomControlView",
            "options": [
              "position",
              "zoom_in_text",
              "zoom_in_title",
              "zoom_out_text",
              "zoom_out_title"
            ],
            "position": "topleft",
            "zoom_in_text": "+",
            "zoom_in_title": "Zoom in",
            "zoom_out_text": "-",
            "zoom_out_title": "Zoom out"
          }
        },
        "4f7aac271ec647f787915147975ca755": {
          "model_module": "jupyter-leaflet",
          "model_name": "LeafletFullScreenControlModel",
          "model_module_version": "^0.19",
          "state": {
            "_model_module": "jupyter-leaflet",
            "_model_module_version": "^0.19",
            "_model_name": "LeafletFullScreenControlModel",
            "_view_count": null,
            "_view_module": "jupyter-leaflet",
            "_view_module_version": "^0.19",
            "_view_name": "LeafletFullScreenControlView",
            "options": [
              "position"
            ],
            "position": "topleft"
          }
        },
        "ba5a376ced49427e844177ec03861b9e": {
          "model_module": "jupyter-leaflet",
          "model_name": "LeafletDrawControlModel",
          "model_module_version": "^0.19",
          "state": {
            "_model_module": "jupyter-leaflet",
            "_model_module_version": "^0.19",
            "_model_name": "LeafletDrawControlModel",
            "_view_count": null,
            "_view_module": "jupyter-leaflet",
            "_view_module_version": "^0.19",
            "_view_name": "LeafletDrawControlView",
            "circle": {},
            "circlemarker": {},
            "data": [],
            "edit": true,
            "marker": {
              "shapeOptions": {
                "color": "#3388ff"
              }
            },
            "options": [
              "position"
            ],
            "polygon": {
              "shapeOptions": {}
            },
            "polyline": {
              "shapeOptions": {}
            },
            "position": "topleft",
            "rectangle": {
              "shapeOptions": {
                "color": "#3388ff"
              }
            },
            "remove": true
          }
        },
        "4225d3c42a784d4b8eb6c4a7092f9eaf": {
          "model_module": "jupyter-leaflet",
          "model_name": "LeafletScaleControlModel",
          "model_module_version": "^0.19",
          "state": {
            "_model_module": "jupyter-leaflet",
            "_model_module_version": "^0.19",
            "_model_name": "LeafletScaleControlModel",
            "_view_count": null,
            "_view_module": "jupyter-leaflet",
            "_view_module_version": "^0.19",
            "_view_name": "LeafletScaleControlView",
            "imperial": true,
            "max_width": 100,
            "metric": true,
            "options": [
              "imperial",
              "max_width",
              "metric",
              "position",
              "update_when_idle"
            ],
            "position": "bottomleft",
            "update_when_idle": false
          }
        },
        "1e78e1ae8c474168a7c75a4ad54a30ef": {
          "model_module": "jupyter-leaflet",
          "model_name": "LeafletMeasureControlModel",
          "model_module_version": "^0.19",
          "state": {
            "_custom_units": {},
            "_model_module": "jupyter-leaflet",
            "_model_module_version": "^0.19",
            "_model_name": "LeafletMeasureControlModel",
            "_view_count": null,
            "_view_module": "jupyter-leaflet",
            "_view_module_version": "^0.19",
            "_view_name": "LeafletMeasureControlView",
            "active_color": "orange",
            "capture_z_index": 10000,
            "completed_color": "#C8F2BE",
            "options": [
              "active_color",
              "capture_z_index",
              "completed_color",
              "popup_options",
              "position",
              "primary_area_unit",
              "primary_length_unit",
              "secondary_area_unit",
              "secondary_length_unit"
            ],
            "popup_options": {
              "className": "leaflet-measure-resultpopup",
              "autoPanPadding": [
                10,
                10
              ]
            },
            "position": "bottomleft",
            "primary_area_unit": "acres",
            "primary_length_unit": "kilometers",
            "secondary_area_unit": null,
            "secondary_length_unit": null
          }
        },
        "3c5f237304ad4b7e9a99ee31aebd8002": {
          "model_module": "jupyter-leaflet",
          "model_name": "LeafletWidgetControlModel",
          "model_module_version": "^0.19",
          "state": {
            "_model_module": "jupyter-leaflet",
            "_model_module_version": "^0.19",
            "_model_name": "LeafletWidgetControlModel",
            "_view_count": null,
            "_view_module": "jupyter-leaflet",
            "_view_module_version": "^0.19",
            "_view_name": "LeafletWidgetControlView",
            "max_height": null,
            "max_width": null,
            "min_height": null,
            "min_width": null,
            "options": [
              "position",
              "transparent_bg"
            ],
            "position": "topright",
            "transparent_bg": false,
            "widget": "IPY_MODEL_c9b8275581974571862b6ef7ad409932"
          }
        },
        "54cf856394a9485c911a07db4280ccc7": {
          "model_module": "jupyter-leaflet",
          "model_name": "LeafletAttributionControlModel",
          "model_module_version": "^0.19",
          "state": {
            "_model_module": "jupyter-leaflet",
            "_model_module_version": "^0.19",
            "_model_name": "LeafletAttributionControlModel",
            "_view_count": null,
            "_view_module": "jupyter-leaflet",
            "_view_module_version": "^0.19",
            "_view_name": "LeafletAttributionControlView",
            "options": [
              "position",
              "prefix"
            ],
            "position": "bottomright",
            "prefix": "ipyleaflet"
          }
        },
        "3ed5992cd76344358c7d50a6424390a4": {
          "model_module": "jupyter-leaflet",
          "model_name": "LeafletMapStyleModel",
          "model_module_version": "^0.19",
          "state": {
            "_model_module": "jupyter-leaflet",
            "_model_module_version": "^0.19",
            "_model_name": "LeafletMapStyleModel",
            "_view_count": null,
            "_view_module": "@jupyter-widgets/base",
            "_view_module_version": "1.2.0",
            "_view_name": "StyleView",
            "cursor": "grab"
          }
        },
        "16d6da04abf746a98a3e4d95d9e6f944": {
          "model_module": "jupyter-leaflet",
          "model_name": "LeafletMapStyleModel",
          "model_module_version": "^0.19",
          "state": {
            "_model_module": "jupyter-leaflet",
            "_model_module_version": "^0.19",
            "_model_name": "LeafletMapStyleModel",
            "_view_count": null,
            "_view_module": "@jupyter-widgets/base",
            "_view_module_version": "1.2.0",
            "_view_name": "StyleView",
            "cursor": "move"
          }
        },
        "6a960de696f844c2835202034a63ffe6": {
          "model_module": "jupyter-leaflet",
          "model_name": "LeafletTileLayerModel",
          "model_module_version": "^0.19",
          "state": {
            "_model_module": "jupyter-leaflet",
            "_model_module_version": "^0.19",
            "_model_name": "LeafletTileLayerModel",
            "_view_count": null,
            "_view_module": "jupyter-leaflet",
            "_view_module_version": "^0.19",
            "_view_name": "LeafletTileLayerView",
            "attribution": "&copy; <a href=\"https://www.openstreetmap.org/copyright\">OpenStreetMap</a> contributors",
            "base": true,
            "bottom": true,
            "bounds": null,
            "detect_retina": false,
            "loading": false,
            "max_native_zoom": null,
            "max_zoom": 30,
            "min_native_zoom": null,
            "min_zoom": 1,
            "name": "OpenStreetMap.Mapnik",
            "no_wrap": false,
            "opacity": 1,
            "options": [
              "attribution",
              "bounds",
              "detect_retina",
              "max_native_zoom",
              "max_zoom",
              "min_native_zoom",
              "min_zoom",
              "no_wrap",
              "tile_size",
              "tms",
              "zoom_offset"
            ],
            "pane": "",
            "popup": null,
            "popup_max_height": null,
            "popup_max_width": 300,
            "popup_min_width": 50,
            "show_loading": false,
            "subitems": [],
            "tile_size": 256,
            "tms": false,
            "url": "https://tile.openstreetmap.org/{z}/{x}/{y}.png",
            "visible": true,
            "zoom_offset": 0
          }
        },
        "9b29118956b140398cfc396f0302416d": {
          "model_module": "@jupyter-widgets/base",
          "model_name": "LayoutModel",
          "model_module_version": "1.2.0",
          "state": {
            "_model_module": "@jupyter-widgets/base",
            "_model_module_version": "1.2.0",
            "_model_name": "LayoutModel",
            "_view_count": null,
            "_view_module": "@jupyter-widgets/base",
            "_view_module_version": "1.2.0",
            "_view_name": "LayoutView",
            "align_content": null,
            "align_items": null,
            "align_self": null,
            "border": null,
            "bottom": null,
            "display": null,
            "flex": null,
            "flex_flow": null,
            "grid_area": null,
            "grid_auto_columns": null,
            "grid_auto_flow": null,
            "grid_auto_rows": null,
            "grid_column": null,
            "grid_gap": null,
            "grid_row": null,
            "grid_template_areas": null,
            "grid_template_columns": null,
            "grid_template_rows": null,
            "height": "600px",
            "justify_content": null,
            "justify_items": null,
            "left": null,
            "margin": null,
            "max_height": null,
            "max_width": null,
            "min_height": null,
            "min_width": null,
            "object_fit": null,
            "object_position": null,
            "order": null,
            "overflow": null,
            "overflow_x": null,
            "overflow_y": null,
            "padding": null,
            "right": null,
            "top": null,
            "visibility": null,
            "width": null
          }
        },
        "963e5217aedd474ea05925c28dfe06b7": {
          "model_module": "jupyter-leaflet",
          "model_name": "LeafletMapStyleModel",
          "model_module_version": "^0.19",
          "state": {
            "_model_module": "jupyter-leaflet",
            "_model_module_version": "^0.19",
            "_model_name": "LeafletMapStyleModel",
            "_view_count": null,
            "_view_module": "@jupyter-widgets/base",
            "_view_module_version": "1.2.0",
            "_view_name": "StyleView",
            "cursor": "grab"
          }
        },
        "4a8338033a3346bfba989f12b627b9a5": {
          "model_module": "@jupyter-widgets/controls",
          "model_name": "HBoxModel",
          "model_module_version": "1.5.0",
          "state": {
            "_dom_classes": [
              "geemap-colab"
            ],
            "_model_module": "@jupyter-widgets/controls",
            "_model_module_version": "1.5.0",
            "_model_name": "HBoxModel",
            "_view_count": null,
            "_view_module": "@jupyter-widgets/controls",
            "_view_module_version": "1.5.0",
            "_view_name": "HBoxView",
            "box_style": "",
            "children": [
              "IPY_MODEL_96930a29661041afa2c1dad0475edae5"
            ],
            "layout": "IPY_MODEL_9aed21c7a1984e818a0f4fb018bc0c15"
          }
        },
        "c9b8275581974571862b6ef7ad409932": {
          "model_module": "@jupyter-widgets/controls",
          "model_name": "VBoxModel",
          "model_module_version": "1.5.0",
          "state": {
            "_dom_classes": [
              "geemap-colab"
            ],
            "_model_module": "@jupyter-widgets/controls",
            "_model_module_version": "1.5.0",
            "_model_name": "VBoxModel",
            "_view_count": null,
            "_view_module": "@jupyter-widgets/controls",
            "_view_module_version": "1.5.0",
            "_view_name": "VBoxView",
            "box_style": "",
            "children": [
              "IPY_MODEL_17ba3755e4b8450984004109f32b1551",
              "IPY_MODEL_185a9d5ab2014ba68c59968396ebf57c"
            ],
            "layout": "IPY_MODEL_0ecc38b444cf4f07a09bf7cbceeaecd6"
          }
        },
        "96930a29661041afa2c1dad0475edae5": {
          "model_module": "@jupyter-widgets/controls",
          "model_name": "ToggleButtonModel",
          "model_module_version": "1.5.0",
          "state": {
            "_dom_classes": [],
            "_model_module": "@jupyter-widgets/controls",
            "_model_module_version": "1.5.0",
            "_model_name": "ToggleButtonModel",
            "_view_count": null,
            "_view_module": "@jupyter-widgets/controls",
            "_view_module_version": "1.5.0",
            "_view_name": "ToggleButtonView",
            "button_style": "",
            "description": "",
            "description_tooltip": null,
            "disabled": false,
            "icon": "globe",
            "layout": "IPY_MODEL_b2c756e8d4bd4f07819bc0cd0566a8f9",
            "style": "IPY_MODEL_d9845709777148709e9b72057ed19146",
            "tooltip": "Search location/data",
            "value": false
          }
        },
        "9aed21c7a1984e818a0f4fb018bc0c15": {
          "model_module": "@jupyter-widgets/base",
          "model_name": "LayoutModel",
          "model_module_version": "1.2.0",
          "state": {
            "_model_module": "@jupyter-widgets/base",
            "_model_module_version": "1.2.0",
            "_model_name": "LayoutModel",
            "_view_count": null,
            "_view_module": "@jupyter-widgets/base",
            "_view_module_version": "1.2.0",
            "_view_name": "LayoutView",
            "align_content": null,
            "align_items": null,
            "align_self": null,
            "border": null,
            "bottom": null,
            "display": null,
            "flex": null,
            "flex_flow": null,
            "grid_area": null,
            "grid_auto_columns": null,
            "grid_auto_flow": null,
            "grid_auto_rows": null,
            "grid_column": null,
            "grid_gap": null,
            "grid_row": null,
            "grid_template_areas": null,
            "grid_template_columns": null,
            "grid_template_rows": null,
            "height": null,
            "justify_content": null,
            "justify_items": null,
            "left": null,
            "margin": null,
            "max_height": null,
            "max_width": null,
            "min_height": null,
            "min_width": null,
            "object_fit": null,
            "object_position": null,
            "order": null,
            "overflow": null,
            "overflow_x": null,
            "overflow_y": null,
            "padding": null,
            "right": null,
            "top": null,
            "visibility": null,
            "width": null
          }
        },
        "17ba3755e4b8450984004109f32b1551": {
          "model_module": "@jupyter-widgets/controls",
          "model_name": "HBoxModel",
          "model_module_version": "1.5.0",
          "state": {
            "_dom_classes": [],
            "_model_module": "@jupyter-widgets/controls",
            "_model_module_version": "1.5.0",
            "_model_name": "HBoxModel",
            "_view_count": null,
            "_view_module": "@jupyter-widgets/controls",
            "_view_module_version": "1.5.0",
            "_view_name": "HBoxView",
            "box_style": "",
            "children": [
              "IPY_MODEL_aca4ae0a73804ef780756b598818e250",
              "IPY_MODEL_7f0d37131eca4a5088ca6dcc2c4cffc3"
            ],
            "layout": "IPY_MODEL_9c182532d0bb4df8ae58f2d11bc8f325"
          }
        },
        "185a9d5ab2014ba68c59968396ebf57c": {
          "model_module": "@jupyter-widgets/controls",
          "model_name": "VBoxModel",
          "model_module_version": "1.5.0",
          "state": {
            "_dom_classes": [],
            "_model_module": "@jupyter-widgets/controls",
            "_model_module_version": "1.5.0",
            "_model_name": "VBoxModel",
            "_view_count": null,
            "_view_module": "@jupyter-widgets/controls",
            "_view_module_version": "1.5.0",
            "_view_name": "VBoxView",
            "box_style": "",
            "children": [
              "IPY_MODEL_dfc7ab9e5c034d4eac851214fb817d3a"
            ],
            "layout": "IPY_MODEL_43c1aa65c4934460b132f5700d1cb9e8"
          }
        },
        "0ecc38b444cf4f07a09bf7cbceeaecd6": {
          "model_module": "@jupyter-widgets/base",
          "model_name": "LayoutModel",
          "model_module_version": "1.2.0",
          "state": {
            "_model_module": "@jupyter-widgets/base",
            "_model_module_version": "1.2.0",
            "_model_name": "LayoutModel",
            "_view_count": null,
            "_view_module": "@jupyter-widgets/base",
            "_view_module_version": "1.2.0",
            "_view_name": "LayoutView",
            "align_content": null,
            "align_items": null,
            "align_self": null,
            "border": null,
            "bottom": null,
            "display": null,
            "flex": null,
            "flex_flow": null,
            "grid_area": null,
            "grid_auto_columns": null,
            "grid_auto_flow": null,
            "grid_auto_rows": null,
            "grid_column": null,
            "grid_gap": null,
            "grid_row": null,
            "grid_template_areas": null,
            "grid_template_columns": null,
            "grid_template_rows": null,
            "height": null,
            "justify_content": null,
            "justify_items": null,
            "left": null,
            "margin": null,
            "max_height": null,
            "max_width": null,
            "min_height": null,
            "min_width": null,
            "object_fit": null,
            "object_position": null,
            "order": null,
            "overflow": null,
            "overflow_x": null,
            "overflow_y": null,
            "padding": null,
            "right": null,
            "top": null,
            "visibility": null,
            "width": null
          }
        },
        "b2c756e8d4bd4f07819bc0cd0566a8f9": {
          "model_module": "@jupyter-widgets/base",
          "model_name": "LayoutModel",
          "model_module_version": "1.2.0",
          "state": {
            "_model_module": "@jupyter-widgets/base",
            "_model_module_version": "1.2.0",
            "_model_name": "LayoutModel",
            "_view_count": null,
            "_view_module": "@jupyter-widgets/base",
            "_view_module_version": "1.2.0",
            "_view_name": "LayoutView",
            "align_content": null,
            "align_items": null,
            "align_self": null,
            "border": null,
            "bottom": null,
            "display": null,
            "flex": null,
            "flex_flow": null,
            "grid_area": null,
            "grid_auto_columns": null,
            "grid_auto_flow": null,
            "grid_auto_rows": null,
            "grid_column": null,
            "grid_gap": null,
            "grid_row": null,
            "grid_template_areas": null,
            "grid_template_columns": null,
            "grid_template_rows": null,
            "height": "28px",
            "justify_content": null,
            "justify_items": null,
            "left": null,
            "margin": null,
            "max_height": null,
            "max_width": null,
            "min_height": null,
            "min_width": null,
            "object_fit": null,
            "object_position": null,
            "order": null,
            "overflow": null,
            "overflow_x": null,
            "overflow_y": null,
            "padding": "0px 0px 0px 4px",
            "right": null,
            "top": null,
            "visibility": null,
            "width": "28px"
          }
        },
        "d9845709777148709e9b72057ed19146": {
          "model_module": "@jupyter-widgets/controls",
          "model_name": "DescriptionStyleModel",
          "model_module_version": "1.5.0",
          "state": {
            "_model_module": "@jupyter-widgets/controls",
            "_model_module_version": "1.5.0",
            "_model_name": "DescriptionStyleModel",
            "_view_count": null,
            "_view_module": "@jupyter-widgets/base",
            "_view_module_version": "1.2.0",
            "_view_name": "StyleView",
            "description_width": ""
          }
        },
        "aca4ae0a73804ef780756b598818e250": {
          "model_module": "@jupyter-widgets/controls",
          "model_name": "ToggleButtonModel",
          "model_module_version": "1.5.0",
          "state": {
            "_dom_classes": [],
            "_model_module": "@jupyter-widgets/controls",
            "_model_module_version": "1.5.0",
            "_model_name": "ToggleButtonModel",
            "_view_count": null,
            "_view_module": "@jupyter-widgets/controls",
            "_view_module_version": "1.5.0",
            "_view_name": "ToggleButtonView",
            "button_style": "",
            "description": "",
            "description_tooltip": null,
            "disabled": false,
            "icon": "server",
            "layout": "IPY_MODEL_dcaec4b6a82a47c8921eb0636170a14a",
            "style": "IPY_MODEL_36f27b1e3c2747cfb8742dc21ad3d3ac",
            "tooltip": "Layers",
            "value": true
          }
        },
        "7f0d37131eca4a5088ca6dcc2c4cffc3": {
          "model_module": "@jupyter-widgets/controls",
          "model_name": "ToggleButtonModel",
          "model_module_version": "1.5.0",
          "state": {
            "_dom_classes": [],
            "_model_module": "@jupyter-widgets/controls",
            "_model_module_version": "1.5.0",
            "_model_name": "ToggleButtonModel",
            "_view_count": null,
            "_view_module": "@jupyter-widgets/controls",
            "_view_module_version": "1.5.0",
            "_view_name": "ToggleButtonView",
            "button_style": "",
            "description": "",
            "description_tooltip": null,
            "disabled": false,
            "icon": "wrench",
            "layout": "IPY_MODEL_9b1cb20b264840fda7d80b1de58afed1",
            "style": "IPY_MODEL_462cff70484d42f7a776c7d98d9fb36a",
            "tooltip": "Toolbar",
            "value": false
          }
        },
        "9c182532d0bb4df8ae58f2d11bc8f325": {
          "model_module": "@jupyter-widgets/base",
          "model_name": "LayoutModel",
          "model_module_version": "1.2.0",
          "state": {
            "_model_module": "@jupyter-widgets/base",
            "_model_module_version": "1.2.0",
            "_model_name": "LayoutModel",
            "_view_count": null,
            "_view_module": "@jupyter-widgets/base",
            "_view_module_version": "1.2.0",
            "_view_name": "LayoutView",
            "align_content": null,
            "align_items": "center",
            "align_self": null,
            "border": null,
            "bottom": null,
            "display": "flex",
            "flex": null,
            "flex_flow": null,
            "grid_area": null,
            "grid_auto_columns": null,
            "grid_auto_flow": null,
            "grid_auto_rows": null,
            "grid_column": null,
            "grid_gap": null,
            "grid_row": null,
            "grid_template_areas": null,
            "grid_template_columns": null,
            "grid_template_rows": null,
            "height": null,
            "justify_content": "flex-end",
            "justify_items": null,
            "left": null,
            "margin": null,
            "max_height": null,
            "max_width": null,
            "min_height": null,
            "min_width": null,
            "object_fit": null,
            "object_position": null,
            "order": null,
            "overflow": null,
            "overflow_x": null,
            "overflow_y": null,
            "padding": null,
            "right": null,
            "top": null,
            "visibility": null,
            "width": null
          }
        },
        "dfc7ab9e5c034d4eac851214fb817d3a": {
          "model_module": "@jupyter-widgets/controls",
          "model_name": "VBoxModel",
          "model_module_version": "1.5.0",
          "state": {
            "_dom_classes": [
              "geemap-colab"
            ],
            "_model_module": "@jupyter-widgets/controls",
            "_model_module_version": "1.5.0",
            "_model_name": "VBoxModel",
            "_view_count": null,
            "_view_module": "@jupyter-widgets/controls",
            "_view_module_version": "1.5.0",
            "_view_name": "VBoxView",
            "box_style": "",
            "children": [
              "IPY_MODEL_7aad4909f78c4ce383df8650bac7ea00",
              "IPY_MODEL_23cd51d2fea940caa5aa810f18fb2fbc"
            ],
            "layout": "IPY_MODEL_3264c64bdf664e70a95aff12cdaa3779"
          }
        },
        "43c1aa65c4934460b132f5700d1cb9e8": {
          "model_module": "@jupyter-widgets/base",
          "model_name": "LayoutModel",
          "model_module_version": "1.2.0",
          "state": {
            "_model_module": "@jupyter-widgets/base",
            "_model_module_version": "1.2.0",
            "_model_name": "LayoutModel",
            "_view_count": null,
            "_view_module": "@jupyter-widgets/base",
            "_view_module_version": "1.2.0",
            "_view_name": "LayoutView",
            "align_content": null,
            "align_items": null,
            "align_self": null,
            "border": null,
            "bottom": null,
            "display": null,
            "flex": null,
            "flex_flow": null,
            "grid_area": null,
            "grid_auto_columns": null,
            "grid_auto_flow": null,
            "grid_auto_rows": null,
            "grid_column": null,
            "grid_gap": null,
            "grid_row": null,
            "grid_template_areas": null,
            "grid_template_columns": null,
            "grid_template_rows": null,
            "height": null,
            "justify_content": null,
            "justify_items": null,
            "left": null,
            "margin": null,
            "max_height": null,
            "max_width": null,
            "min_height": null,
            "min_width": null,
            "object_fit": null,
            "object_position": null,
            "order": null,
            "overflow": null,
            "overflow_x": null,
            "overflow_y": null,
            "padding": null,
            "right": null,
            "top": null,
            "visibility": null,
            "width": null
          }
        },
        "dcaec4b6a82a47c8921eb0636170a14a": {
          "model_module": "@jupyter-widgets/base",
          "model_name": "LayoutModel",
          "model_module_version": "1.2.0",
          "state": {
            "_model_module": "@jupyter-widgets/base",
            "_model_module_version": "1.2.0",
            "_model_name": "LayoutModel",
            "_view_count": null,
            "_view_module": "@jupyter-widgets/base",
            "_view_module_version": "1.2.0",
            "_view_name": "LayoutView",
            "align_content": null,
            "align_items": null,
            "align_self": null,
            "border": null,
            "bottom": null,
            "display": null,
            "flex": null,
            "flex_flow": null,
            "grid_area": null,
            "grid_auto_columns": null,
            "grid_auto_flow": null,
            "grid_auto_rows": null,
            "grid_column": null,
            "grid_gap": null,
            "grid_row": null,
            "grid_template_areas": null,
            "grid_template_columns": null,
            "grid_template_rows": null,
            "height": "28px",
            "justify_content": null,
            "justify_items": null,
            "left": null,
            "margin": null,
            "max_height": null,
            "max_width": null,
            "min_height": null,
            "min_width": null,
            "object_fit": null,
            "object_position": null,
            "order": null,
            "overflow": null,
            "overflow_x": null,
            "overflow_y": null,
            "padding": null,
            "right": null,
            "top": null,
            "visibility": null,
            "width": "72px"
          }
        },
        "36f27b1e3c2747cfb8742dc21ad3d3ac": {
          "model_module": "@jupyter-widgets/controls",
          "model_name": "DescriptionStyleModel",
          "model_module_version": "1.5.0",
          "state": {
            "_model_module": "@jupyter-widgets/controls",
            "_model_module_version": "1.5.0",
            "_model_name": "DescriptionStyleModel",
            "_view_count": null,
            "_view_module": "@jupyter-widgets/base",
            "_view_module_version": "1.2.0",
            "_view_name": "StyleView",
            "description_width": ""
          }
        },
        "9b1cb20b264840fda7d80b1de58afed1": {
          "model_module": "@jupyter-widgets/base",
          "model_name": "LayoutModel",
          "model_module_version": "1.2.0",
          "state": {
            "_model_module": "@jupyter-widgets/base",
            "_model_module_version": "1.2.0",
            "_model_name": "LayoutModel",
            "_view_count": null,
            "_view_module": "@jupyter-widgets/base",
            "_view_module_version": "1.2.0",
            "_view_name": "LayoutView",
            "align_content": null,
            "align_items": null,
            "align_self": null,
            "border": null,
            "bottom": null,
            "display": null,
            "flex": null,
            "flex_flow": null,
            "grid_area": null,
            "grid_auto_columns": null,
            "grid_auto_flow": null,
            "grid_auto_rows": null,
            "grid_column": null,
            "grid_gap": null,
            "grid_row": null,
            "grid_template_areas": null,
            "grid_template_columns": null,
            "grid_template_rows": null,
            "height": "28px",
            "justify_content": null,
            "justify_items": null,
            "left": null,
            "margin": null,
            "max_height": null,
            "max_width": null,
            "min_height": null,
            "min_width": null,
            "object_fit": null,
            "object_position": null,
            "order": null,
            "overflow": null,
            "overflow_x": null,
            "overflow_y": null,
            "padding": "0px 0px 0px 4px",
            "right": null,
            "top": null,
            "visibility": null,
            "width": "28px"
          }
        },
        "462cff70484d42f7a776c7d98d9fb36a": {
          "model_module": "@jupyter-widgets/controls",
          "model_name": "DescriptionStyleModel",
          "model_module_version": "1.5.0",
          "state": {
            "_model_module": "@jupyter-widgets/controls",
            "_model_module_version": "1.5.0",
            "_model_name": "DescriptionStyleModel",
            "_view_count": null,
            "_view_module": "@jupyter-widgets/base",
            "_view_module_version": "1.2.0",
            "_view_name": "StyleView",
            "description_width": ""
          }
        },
        "7aad4909f78c4ce383df8650bac7ea00": {
          "model_module": "@jupyter-widgets/controls",
          "model_name": "HBoxModel",
          "model_module_version": "1.5.0",
          "state": {
            "_dom_classes": [],
            "_model_module": "@jupyter-widgets/controls",
            "_model_module_version": "1.5.0",
            "_model_name": "HBoxModel",
            "_view_count": null,
            "_view_module": "@jupyter-widgets/controls",
            "_view_module_version": "1.5.0",
            "_view_name": "HBoxView",
            "box_style": "",
            "children": [
              "IPY_MODEL_dbcd9912b06a45908cb29bd43121ac1e",
              "IPY_MODEL_1da7d0d82b294ac0906aca64e9ed97d5"
            ],
            "layout": "IPY_MODEL_71365a75df5c4a4791bfbb43f6167ed7"
          }
        },
        "23cd51d2fea940caa5aa810f18fb2fbc": {
          "model_module": "@jupyter-widgets/controls",
          "model_name": "VBoxModel",
          "model_module_version": "1.5.0",
          "state": {
            "_dom_classes": [],
            "_model_module": "@jupyter-widgets/controls",
            "_model_module_version": "1.5.0",
            "_model_name": "VBoxModel",
            "_view_count": null,
            "_view_module": "@jupyter-widgets/controls",
            "_view_module_version": "1.5.0",
            "_view_name": "VBoxView",
            "box_style": "",
            "children": [
              "IPY_MODEL_c67cfa0f91434a1ead68f21418d9c7aa",
              "IPY_MODEL_38db66389797492ebf59e96211b208f8"
            ],
            "layout": "IPY_MODEL_13f7d819ba3049258330e6b753696f32"
          }
        },
        "3264c64bdf664e70a95aff12cdaa3779": {
          "model_module": "@jupyter-widgets/base",
          "model_name": "LayoutModel",
          "model_module_version": "1.2.0",
          "state": {
            "_model_module": "@jupyter-widgets/base",
            "_model_module_version": "1.2.0",
            "_model_name": "LayoutModel",
            "_view_count": null,
            "_view_module": "@jupyter-widgets/base",
            "_view_module_version": "1.2.0",
            "_view_name": "LayoutView",
            "align_content": null,
            "align_items": null,
            "align_self": null,
            "border": null,
            "bottom": null,
            "display": null,
            "flex": null,
            "flex_flow": null,
            "grid_area": null,
            "grid_auto_columns": null,
            "grid_auto_flow": null,
            "grid_auto_rows": null,
            "grid_column": null,
            "grid_gap": null,
            "grid_row": null,
            "grid_template_areas": null,
            "grid_template_columns": null,
            "grid_template_rows": null,
            "height": null,
            "justify_content": null,
            "justify_items": null,
            "left": null,
            "margin": null,
            "max_height": null,
            "max_width": null,
            "min_height": null,
            "min_width": null,
            "object_fit": null,
            "object_position": null,
            "order": null,
            "overflow": null,
            "overflow_x": null,
            "overflow_y": null,
            "padding": null,
            "right": null,
            "top": null,
            "visibility": null,
            "width": null
          }
        },
        "dbcd9912b06a45908cb29bd43121ac1e": {
          "model_module": "@jupyter-widgets/controls",
          "model_name": "ButtonModel",
          "model_module_version": "1.5.0",
          "state": {
            "_dom_classes": [],
            "_model_module": "@jupyter-widgets/controls",
            "_model_module_version": "1.5.0",
            "_model_name": "ButtonModel",
            "_view_count": null,
            "_view_module": "@jupyter-widgets/controls",
            "_view_module_version": "1.5.0",
            "_view_name": "ButtonView",
            "button_style": "primary",
            "description": "",
            "disabled": false,
            "icon": "times",
            "layout": "IPY_MODEL_0a91603f7dc54951b36f25a83371f70e",
            "style": "IPY_MODEL_96becf1e745d42ff9b7be8962e3f1e1d",
            "tooltip": "Close the tool"
          }
        },
        "1da7d0d82b294ac0906aca64e9ed97d5": {
          "model_module": "@jupyter-widgets/controls",
          "model_name": "ToggleButtonModel",
          "model_module_version": "1.5.0",
          "state": {
            "_dom_classes": [],
            "_model_module": "@jupyter-widgets/controls",
            "_model_module_version": "1.5.0",
            "_model_name": "ToggleButtonModel",
            "_view_count": null,
            "_view_module": "@jupyter-widgets/controls",
            "_view_module_version": "1.5.0",
            "_view_name": "ToggleButtonView",
            "button_style": "",
            "description": "",
            "description_tooltip": null,
            "disabled": false,
            "icon": "server",
            "layout": "IPY_MODEL_f8967d2533e54236bb88ca693c42758f",
            "style": "IPY_MODEL_21bb1f2809ff40eb953bad3e79899533",
            "tooltip": "Layer Manager",
            "value": true
          }
        },
        "71365a75df5c4a4791bfbb43f6167ed7": {
          "model_module": "@jupyter-widgets/base",
          "model_name": "LayoutModel",
          "model_module_version": "1.2.0",
          "state": {
            "_model_module": "@jupyter-widgets/base",
            "_model_module_version": "1.2.0",
            "_model_name": "LayoutModel",
            "_view_count": null,
            "_view_module": "@jupyter-widgets/base",
            "_view_module_version": "1.2.0",
            "_view_name": "LayoutView",
            "align_content": null,
            "align_items": null,
            "align_self": null,
            "border": null,
            "bottom": null,
            "display": "none",
            "flex": null,
            "flex_flow": null,
            "grid_area": null,
            "grid_auto_columns": null,
            "grid_auto_flow": null,
            "grid_auto_rows": null,
            "grid_column": null,
            "grid_gap": null,
            "grid_row": null,
            "grid_template_areas": null,
            "grid_template_columns": null,
            "grid_template_rows": null,
            "height": null,
            "justify_content": null,
            "justify_items": null,
            "left": null,
            "margin": null,
            "max_height": null,
            "max_width": null,
            "min_height": null,
            "min_width": null,
            "object_fit": null,
            "object_position": null,
            "order": null,
            "overflow": null,
            "overflow_x": null,
            "overflow_y": null,
            "padding": null,
            "right": null,
            "top": null,
            "visibility": null,
            "width": null
          }
        },
        "c67cfa0f91434a1ead68f21418d9c7aa": {
          "model_module": "@jupyter-widgets/controls",
          "model_name": "CheckboxModel",
          "model_module_version": "1.5.0",
          "state": {
            "_dom_classes": [],
            "_model_module": "@jupyter-widgets/controls",
            "_model_module_version": "1.5.0",
            "_model_name": "CheckboxModel",
            "_view_count": null,
            "_view_module": "@jupyter-widgets/controls",
            "_view_module_version": "1.5.0",
            "_view_name": "CheckboxView",
            "description": "All layers on/off",
            "description_tooltip": null,
            "disabled": false,
            "indent": false,
            "layout": "IPY_MODEL_82e6495d05ef4bf4a5bb61b500387b58",
            "style": "IPY_MODEL_62ee66e8aeaf42f187800176ae28f880",
            "value": false
          }
        },
        "38db66389797492ebf59e96211b208f8": {
          "model_module": "@jupyter-widgets/controls",
          "model_name": "HBoxModel",
          "model_module_version": "1.5.0",
          "state": {
            "_dom_classes": [],
            "_model_module": "@jupyter-widgets/controls",
            "_model_module_version": "1.5.0",
            "_model_name": "HBoxModel",
            "_view_count": null,
            "_view_module": "@jupyter-widgets/controls",
            "_view_module_version": "1.5.0",
            "_view_name": "HBoxView",
            "box_style": "",
            "children": [
              "IPY_MODEL_57f8367aa3f443ce8e72dd6e2ddc7555",
              "IPY_MODEL_896bc9e74ea94c3291a61e40526f3682",
              "IPY_MODEL_2e6131203a364b04b354763bb1e45921",
              "IPY_MODEL_5fffc99fe7c1484d8a79eff2e2fcdf50"
            ],
            "layout": "IPY_MODEL_0073cb367c31476dbef411e22db20d0d"
          }
        },
        "13f7d819ba3049258330e6b753696f32": {
          "model_module": "@jupyter-widgets/base",
          "model_name": "LayoutModel",
          "model_module_version": "1.2.0",
          "state": {
            "_model_module": "@jupyter-widgets/base",
            "_model_module_version": "1.2.0",
            "_model_name": "LayoutModel",
            "_view_count": null,
            "_view_module": "@jupyter-widgets/base",
            "_view_module_version": "1.2.0",
            "_view_name": "LayoutView",
            "align_content": null,
            "align_items": null,
            "align_self": null,
            "border": null,
            "bottom": null,
            "display": null,
            "flex": null,
            "flex_flow": null,
            "grid_area": null,
            "grid_auto_columns": null,
            "grid_auto_flow": null,
            "grid_auto_rows": null,
            "grid_column": null,
            "grid_gap": null,
            "grid_row": null,
            "grid_template_areas": null,
            "grid_template_columns": null,
            "grid_template_rows": null,
            "height": null,
            "justify_content": null,
            "justify_items": null,
            "left": null,
            "margin": null,
            "max_height": null,
            "max_width": null,
            "min_height": null,
            "min_width": null,
            "object_fit": null,
            "object_position": null,
            "order": null,
            "overflow": null,
            "overflow_x": null,
            "overflow_y": null,
            "padding": null,
            "right": null,
            "top": null,
            "visibility": null,
            "width": null
          }
        },
        "0a91603f7dc54951b36f25a83371f70e": {
          "model_module": "@jupyter-widgets/base",
          "model_name": "LayoutModel",
          "model_module_version": "1.2.0",
          "state": {
            "_model_module": "@jupyter-widgets/base",
            "_model_module_version": "1.2.0",
            "_model_name": "LayoutModel",
            "_view_count": null,
            "_view_module": "@jupyter-widgets/base",
            "_view_module_version": "1.2.0",
            "_view_name": "LayoutView",
            "align_content": null,
            "align_items": null,
            "align_self": null,
            "border": null,
            "bottom": null,
            "display": null,
            "flex": null,
            "flex_flow": null,
            "grid_area": null,
            "grid_auto_columns": null,
            "grid_auto_flow": null,
            "grid_auto_rows": null,
            "grid_column": null,
            "grid_gap": null,
            "grid_row": null,
            "grid_template_areas": null,
            "grid_template_columns": null,
            "grid_template_rows": null,
            "height": "28px",
            "justify_content": null,
            "justify_items": null,
            "left": null,
            "margin": null,
            "max_height": null,
            "max_width": null,
            "min_height": null,
            "min_width": null,
            "object_fit": null,
            "object_position": null,
            "order": null,
            "overflow": null,
            "overflow_x": null,
            "overflow_y": null,
            "padding": "0px",
            "right": null,
            "top": null,
            "visibility": null,
            "width": "28px"
          }
        },
        "96becf1e745d42ff9b7be8962e3f1e1d": {
          "model_module": "@jupyter-widgets/controls",
          "model_name": "ButtonStyleModel",
          "model_module_version": "1.5.0",
          "state": {
            "_model_module": "@jupyter-widgets/controls",
            "_model_module_version": "1.5.0",
            "_model_name": "ButtonStyleModel",
            "_view_count": null,
            "_view_module": "@jupyter-widgets/base",
            "_view_module_version": "1.2.0",
            "_view_name": "StyleView",
            "button_color": null,
            "font_weight": ""
          }
        },
        "f8967d2533e54236bb88ca693c42758f": {
          "model_module": "@jupyter-widgets/base",
          "model_name": "LayoutModel",
          "model_module_version": "1.2.0",
          "state": {
            "_model_module": "@jupyter-widgets/base",
            "_model_module_version": "1.2.0",
            "_model_name": "LayoutModel",
            "_view_count": null,
            "_view_module": "@jupyter-widgets/base",
            "_view_module_version": "1.2.0",
            "_view_name": "LayoutView",
            "align_content": null,
            "align_items": null,
            "align_self": null,
            "border": null,
            "bottom": null,
            "display": null,
            "flex": null,
            "flex_flow": null,
            "grid_area": null,
            "grid_auto_columns": null,
            "grid_auto_flow": null,
            "grid_auto_rows": null,
            "grid_column": null,
            "grid_gap": null,
            "grid_row": null,
            "grid_template_areas": null,
            "grid_template_columns": null,
            "grid_template_rows": null,
            "height": "28px",
            "justify_content": null,
            "justify_items": null,
            "left": null,
            "margin": null,
            "max_height": null,
            "max_width": null,
            "min_height": null,
            "min_width": null,
            "object_fit": null,
            "object_position": null,
            "order": null,
            "overflow": null,
            "overflow_x": null,
            "overflow_y": null,
            "padding": "0px 0px 0px 4px",
            "right": null,
            "top": null,
            "visibility": null,
            "width": "28px"
          }
        },
        "21bb1f2809ff40eb953bad3e79899533": {
          "model_module": "@jupyter-widgets/controls",
          "model_name": "DescriptionStyleModel",
          "model_module_version": "1.5.0",
          "state": {
            "_model_module": "@jupyter-widgets/controls",
            "_model_module_version": "1.5.0",
            "_model_name": "DescriptionStyleModel",
            "_view_count": null,
            "_view_module": "@jupyter-widgets/base",
            "_view_module_version": "1.2.0",
            "_view_name": "StyleView",
            "description_width": ""
          }
        },
        "82e6495d05ef4bf4a5bb61b500387b58": {
          "model_module": "@jupyter-widgets/base",
          "model_name": "LayoutModel",
          "model_module_version": "1.2.0",
          "state": {
            "_model_module": "@jupyter-widgets/base",
            "_model_module_version": "1.2.0",
            "_model_name": "LayoutModel",
            "_view_count": null,
            "_view_module": "@jupyter-widgets/base",
            "_view_module_version": "1.2.0",
            "_view_name": "LayoutView",
            "align_content": null,
            "align_items": null,
            "align_self": null,
            "border": null,
            "bottom": null,
            "display": null,
            "flex": null,
            "flex_flow": null,
            "grid_area": null,
            "grid_auto_columns": null,
            "grid_auto_flow": null,
            "grid_auto_rows": null,
            "grid_column": null,
            "grid_gap": null,
            "grid_row": null,
            "grid_template_areas": null,
            "grid_template_columns": null,
            "grid_template_rows": null,
            "height": "18px",
            "justify_content": null,
            "justify_items": null,
            "left": null,
            "margin": null,
            "max_height": null,
            "max_width": null,
            "min_height": null,
            "min_width": null,
            "object_fit": null,
            "object_position": null,
            "order": null,
            "overflow": null,
            "overflow_x": null,
            "overflow_y": null,
            "padding": "0px 4px 25px 4px",
            "right": null,
            "top": null,
            "visibility": null,
            "width": "30ex"
          }
        },
        "62ee66e8aeaf42f187800176ae28f880": {
          "model_module": "@jupyter-widgets/controls",
          "model_name": "DescriptionStyleModel",
          "model_module_version": "1.5.0",
          "state": {
            "_model_module": "@jupyter-widgets/controls",
            "_model_module_version": "1.5.0",
            "_model_name": "DescriptionStyleModel",
            "_view_count": null,
            "_view_module": "@jupyter-widgets/base",
            "_view_module_version": "1.2.0",
            "_view_name": "StyleView",
            "description_width": ""
          }
        },
        "57f8367aa3f443ce8e72dd6e2ddc7555": {
          "model_module": "@jupyter-widgets/controls",
          "model_name": "CheckboxModel",
          "model_module_version": "1.5.0",
          "state": {
            "_dom_classes": [],
            "_model_module": "@jupyter-widgets/controls",
            "_model_module_version": "1.5.0",
            "_model_name": "CheckboxModel",
            "_view_count": null,
            "_view_module": "@jupyter-widgets/controls",
            "_view_module_version": "1.5.0",
            "_view_name": "CheckboxView",
            "description": "OpenStreetMap.Mapnik",
            "description_tooltip": null,
            "disabled": false,
            "indent": false,
            "layout": "IPY_MODEL_b03b9f6fc4644154b9036f399c591c67",
            "style": "IPY_MODEL_9a52256a11684e669e0105299e7b7166",
            "value": true
          }
        },
        "896bc9e74ea94c3291a61e40526f3682": {
          "model_module": "@jupyter-widgets/controls",
          "model_name": "FloatSliderModel",
          "model_module_version": "1.5.0",
          "state": {
            "_dom_classes": [],
            "_model_module": "@jupyter-widgets/controls",
            "_model_module_version": "1.5.0",
            "_model_name": "FloatSliderModel",
            "_view_count": null,
            "_view_module": "@jupyter-widgets/controls",
            "_view_module_version": "1.5.0",
            "_view_name": "FloatSliderView",
            "continuous_update": true,
            "description": "",
            "description_tooltip": null,
            "disabled": false,
            "layout": "IPY_MODEL_49653ad455ed4682a1d42e99ed101b45",
            "max": 1,
            "min": 0,
            "orientation": "horizontal",
            "readout": false,
            "readout_format": ".2f",
            "step": 0.01,
            "style": "IPY_MODEL_a1f5b764b87f4b1ea908a249b2847e60",
            "value": 1
          }
        },
        "2e6131203a364b04b354763bb1e45921": {
          "model_module": "@jupyter-widgets/controls",
          "model_name": "ButtonModel",
          "model_module_version": "1.5.0",
          "state": {
            "_dom_classes": [],
            "_model_module": "@jupyter-widgets/controls",
            "_model_module_version": "1.5.0",
            "_model_name": "ButtonModel",
            "_view_count": null,
            "_view_module": "@jupyter-widgets/controls",
            "_view_module_version": "1.5.0",
            "_view_name": "ButtonView",
            "button_style": "",
            "description": "",
            "disabled": false,
            "icon": "gear",
            "layout": "IPY_MODEL_30ec536bd81a467c8a22f5d230456135",
            "style": "IPY_MODEL_9adf5d88c27044fd930daf9e36156e85",
            "tooltip": "OpenStreetMap.Mapnik"
          }
        },
        "5fffc99fe7c1484d8a79eff2e2fcdf50": {
          "model_module": "@jupyter-widgets/controls",
          "model_name": "ButtonModel",
          "model_module_version": "1.5.0",
          "state": {
            "_dom_classes": [],
            "_model_module": "@jupyter-widgets/controls",
            "_model_module_version": "1.5.0",
            "_model_name": "ButtonModel",
            "_view_count": null,
            "_view_module": "@jupyter-widgets/controls",
            "_view_module_version": "1.5.0",
            "_view_name": "ButtonView",
            "button_style": "",
            "description": "",
            "disabled": false,
            "icon": "times",
            "layout": "IPY_MODEL_41d0a1e0cb3c45c891931aa42746ca48",
            "style": "IPY_MODEL_00eaa7558dda49ffb56d0d1db69af5f7",
            "tooltip": "Loaded"
          }
        },
        "0073cb367c31476dbef411e22db20d0d": {
          "model_module": "@jupyter-widgets/base",
          "model_name": "LayoutModel",
          "model_module_version": "1.2.0",
          "state": {
            "_model_module": "@jupyter-widgets/base",
            "_model_module_version": "1.2.0",
            "_model_name": "LayoutModel",
            "_view_count": null,
            "_view_module": "@jupyter-widgets/base",
            "_view_module_version": "1.2.0",
            "_view_name": "LayoutView",
            "align_content": null,
            "align_items": null,
            "align_self": null,
            "border": null,
            "bottom": null,
            "display": null,
            "flex": null,
            "flex_flow": null,
            "grid_area": null,
            "grid_auto_columns": null,
            "grid_auto_flow": null,
            "grid_auto_rows": null,
            "grid_column": null,
            "grid_gap": null,
            "grid_row": null,
            "grid_template_areas": null,
            "grid_template_columns": null,
            "grid_template_rows": null,
            "height": null,
            "justify_content": null,
            "justify_items": null,
            "left": null,
            "margin": null,
            "max_height": null,
            "max_width": null,
            "min_height": null,
            "min_width": null,
            "object_fit": null,
            "object_position": null,
            "order": null,
            "overflow": null,
            "overflow_x": null,
            "overflow_y": null,
            "padding": "0px 4px 0px 4px",
            "right": null,
            "top": null,
            "visibility": null,
            "width": null
          }
        },
        "b03b9f6fc4644154b9036f399c591c67": {
          "model_module": "@jupyter-widgets/base",
          "model_name": "LayoutModel",
          "model_module_version": "1.2.0",
          "state": {
            "_model_module": "@jupyter-widgets/base",
            "_model_module_version": "1.2.0",
            "_model_name": "LayoutModel",
            "_view_count": null,
            "_view_module": "@jupyter-widgets/base",
            "_view_module_version": "1.2.0",
            "_view_name": "LayoutView",
            "align_content": null,
            "align_items": null,
            "align_self": null,
            "border": null,
            "bottom": null,
            "display": null,
            "flex": null,
            "flex_flow": null,
            "grid_area": null,
            "grid_auto_columns": null,
            "grid_auto_flow": null,
            "grid_auto_rows": null,
            "grid_column": null,
            "grid_gap": null,
            "grid_row": null,
            "grid_template_areas": null,
            "grid_template_columns": null,
            "grid_template_rows": null,
            "height": "18px",
            "justify_content": null,
            "justify_items": null,
            "left": null,
            "margin": null,
            "max_height": null,
            "max_width": null,
            "min_height": null,
            "min_width": null,
            "object_fit": null,
            "object_position": null,
            "order": null,
            "overflow": null,
            "overflow_x": null,
            "overflow_y": null,
            "padding": null,
            "right": null,
            "top": null,
            "visibility": null,
            "width": "140px"
          }
        },
        "9a52256a11684e669e0105299e7b7166": {
          "model_module": "@jupyter-widgets/controls",
          "model_name": "DescriptionStyleModel",
          "model_module_version": "1.5.0",
          "state": {
            "_model_module": "@jupyter-widgets/controls",
            "_model_module_version": "1.5.0",
            "_model_name": "DescriptionStyleModel",
            "_view_count": null,
            "_view_module": "@jupyter-widgets/base",
            "_view_module_version": "1.2.0",
            "_view_name": "StyleView",
            "description_width": ""
          }
        },
        "49653ad455ed4682a1d42e99ed101b45": {
          "model_module": "@jupyter-widgets/base",
          "model_name": "LayoutModel",
          "model_module_version": "1.2.0",
          "state": {
            "_model_module": "@jupyter-widgets/base",
            "_model_module_version": "1.2.0",
            "_model_name": "LayoutModel",
            "_view_count": null,
            "_view_module": "@jupyter-widgets/base",
            "_view_module_version": "1.2.0",
            "_view_name": "LayoutView",
            "align_content": null,
            "align_items": null,
            "align_self": null,
            "border": null,
            "bottom": null,
            "display": null,
            "flex": null,
            "flex_flow": null,
            "grid_area": null,
            "grid_auto_columns": null,
            "grid_auto_flow": null,
            "grid_auto_rows": null,
            "grid_column": null,
            "grid_gap": null,
            "grid_row": null,
            "grid_template_areas": null,
            "grid_template_columns": null,
            "grid_template_rows": null,
            "height": null,
            "justify_content": null,
            "justify_items": null,
            "left": null,
            "margin": null,
            "max_height": null,
            "max_width": null,
            "min_height": null,
            "min_width": null,
            "object_fit": null,
            "object_position": null,
            "order": null,
            "overflow": null,
            "overflow_x": null,
            "overflow_y": null,
            "padding": "0px 3px 0px 0px",
            "right": null,
            "top": null,
            "visibility": null,
            "width": "70px"
          }
        },
        "a1f5b764b87f4b1ea908a249b2847e60": {
          "model_module": "@jupyter-widgets/controls",
          "model_name": "SliderStyleModel",
          "model_module_version": "1.5.0",
          "state": {
            "_model_module": "@jupyter-widgets/controls",
            "_model_module_version": "1.5.0",
            "_model_name": "SliderStyleModel",
            "_view_count": null,
            "_view_module": "@jupyter-widgets/base",
            "_view_module_version": "1.2.0",
            "_view_name": "StyleView",
            "description_width": "",
            "handle_color": null
          }
        },
        "30ec536bd81a467c8a22f5d230456135": {
          "model_module": "@jupyter-widgets/base",
          "model_name": "LayoutModel",
          "model_module_version": "1.2.0",
          "state": {
            "_model_module": "@jupyter-widgets/base",
            "_model_module_version": "1.2.0",
            "_model_name": "LayoutModel",
            "_view_count": null,
            "_view_module": "@jupyter-widgets/base",
            "_view_module_version": "1.2.0",
            "_view_name": "LayoutView",
            "align_content": null,
            "align_items": null,
            "align_self": null,
            "border": null,
            "bottom": null,
            "display": null,
            "flex": null,
            "flex_flow": null,
            "grid_area": null,
            "grid_auto_columns": null,
            "grid_auto_flow": null,
            "grid_auto_rows": null,
            "grid_column": null,
            "grid_gap": null,
            "grid_row": null,
            "grid_template_areas": null,
            "grid_template_columns": null,
            "grid_template_rows": null,
            "height": "25px",
            "justify_content": null,
            "justify_items": null,
            "left": null,
            "margin": null,
            "max_height": null,
            "max_width": null,
            "min_height": null,
            "min_width": null,
            "object_fit": null,
            "object_position": null,
            "order": null,
            "overflow": null,
            "overflow_x": null,
            "overflow_y": null,
            "padding": "0px",
            "right": null,
            "top": null,
            "visibility": null,
            "width": "25px"
          }
        },
        "9adf5d88c27044fd930daf9e36156e85": {
          "model_module": "@jupyter-widgets/controls",
          "model_name": "ButtonStyleModel",
          "model_module_version": "1.5.0",
          "state": {
            "_model_module": "@jupyter-widgets/controls",
            "_model_module_version": "1.5.0",
            "_model_name": "ButtonStyleModel",
            "_view_count": null,
            "_view_module": "@jupyter-widgets/base",
            "_view_module_version": "1.2.0",
            "_view_name": "StyleView",
            "button_color": null,
            "font_weight": ""
          }
        },
        "41d0a1e0cb3c45c891931aa42746ca48": {
          "model_module": "@jupyter-widgets/base",
          "model_name": "LayoutModel",
          "model_module_version": "1.2.0",
          "state": {
            "_model_module": "@jupyter-widgets/base",
            "_model_module_version": "1.2.0",
            "_model_name": "LayoutModel",
            "_view_count": null,
            "_view_module": "@jupyter-widgets/base",
            "_view_module_version": "1.2.0",
            "_view_name": "LayoutView",
            "align_content": null,
            "align_items": null,
            "align_self": null,
            "border": null,
            "bottom": null,
            "display": null,
            "flex": null,
            "flex_flow": null,
            "grid_area": null,
            "grid_auto_columns": null,
            "grid_auto_flow": null,
            "grid_auto_rows": null,
            "grid_column": null,
            "grid_gap": null,
            "grid_row": null,
            "grid_template_areas": null,
            "grid_template_columns": null,
            "grid_template_rows": null,
            "height": "25px",
            "justify_content": null,
            "justify_items": null,
            "left": null,
            "margin": null,
            "max_height": null,
            "max_width": null,
            "min_height": null,
            "min_width": null,
            "object_fit": null,
            "object_position": null,
            "order": null,
            "overflow": null,
            "overflow_x": null,
            "overflow_y": null,
            "padding": "0px",
            "right": null,
            "top": null,
            "visibility": null,
            "width": "25px"
          }
        },
        "00eaa7558dda49ffb56d0d1db69af5f7": {
          "model_module": "@jupyter-widgets/controls",
          "model_name": "ButtonStyleModel",
          "model_module_version": "1.5.0",
          "state": {
            "_model_module": "@jupyter-widgets/controls",
            "_model_module_version": "1.5.0",
            "_model_name": "ButtonStyleModel",
            "_view_count": null,
            "_view_module": "@jupyter-widgets/base",
            "_view_module_version": "1.2.0",
            "_view_name": "StyleView",
            "button_color": null,
            "font_weight": ""
          }
        }
      }
    }
  },
  "nbformat": 4,
  "nbformat_minor": 5
}